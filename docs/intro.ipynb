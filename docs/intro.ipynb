{
 "cells": [
  {
   "cell_type": "markdown",
   "metadata": {},
   "source": [
    "# ERU-KG: Efficient Reference-aligned Unsupervised Keyphrase Generation"
   ]
  },
  {
   "cell_type": "code",
   "execution_count": 1,
   "metadata": {},
   "outputs": [
    {
     "name": "stderr",
     "output_type": "stream",
     "text": [
      "/home/lamdo/.local/lib/python3.10/site-packages/tqdm/auto.py:21: TqdmWarning: IProgress not found. Please update jupyter and ipywidgets. See https://ipywidgets.readthedocs.io/en/stable/user_install.html\n",
      "  from .autonotebook import tqdm as notebook_tqdm\n"
     ]
    },
    {
     "name": "stdout",
     "output_type": "stream",
     "text": [
      "Using device 'cuda'\n"
     ]
    }
   ],
   "source": [
    "import sys\n",
    "sys.path.append(\"..\")\n",
    "\n",
    "from erukg.retrieval_based_ukg import keyphrase_generation, keyphrase_generation_batch, get_tokens_scores_of_doc\n",
    "from erukg.process_dataset import process_dataset\n",
    "from tqdm import tqdm"
   ]
  },
  {
   "cell_type": "markdown",
   "metadata": {},
   "source": [
    "## Load a dataset"
   ]
  },
  {
   "cell_type": "code",
   "execution_count": 2,
   "metadata": {},
   "outputs": [
    {
     "data": {
      "text/plain": [
       "{'doc_id': 'test_C-1',\n",
       " 'text': 'scalable grid service discovery based on uddi\\nefficient discovery of grid services is essential for the success of grid computing. the standardization of grids based on web services has resulted in the need for scalable web service discovery mechanisms to be deployed in grids even though uddi has been the de facto industry standard for web-services discovery, imposed requirements of tight-replication among registries and lack of autonomous control has severely hindered its widespread deployment and usage. with the advent of grid computing the scalability issue of uddi will become a roadblock that will prevent its deployment in grids. in this paper we present our distributed web-service discovery architecture, called dude (distributed uddi deployment engine). dude leverages dht (distributed hash tables) as a rendezvous mechanism between multiple uddi registries. dude enables consumers to query multiple registries, still at the same time allowing organizations to have autonomous control over their registries.. based on preliminary prototype on planetlab, we believe that dude architecture can support effective distribution of uddi registries thereby making uddi more robust and also addressing its scaling issues. furthermore, the dude architecture for scalable distribution can be applied beyond uddi to any grid service discovery mechanism.',\n",
       " 'text_not_lowered': 'Scalable Grid Service Discovery Based on UDDI\\nEfficient discovery of grid services is essential for the success of grid computing. The standardization of grids based on web services has resulted in the need for scalable web service discovery mechanisms to be deployed in grids Even though UDDI has been the de facto industry standard for web-services discovery, imposed requirements of tight-replication among registries and lack of autonomous control has severely hindered its widespread deployment and usage. With the advent of grid computing the scalability issue of UDDI will become a roadblock that will prevent its deployment in grids. In this paper we present our distributed web-service discovery architecture, called DUDE (Distributed UDDI Deployment Engine). DUDE leverages DHT (Distributed Hash Tables) as a rendezvous mechanism between multiple UDDI registries. DUDE enables consumers to query multiple registries, still at the same time allowing organizations to have autonomous control over their registries.. Based on preliminary prototype on PlanetLab, we believe that DUDE architecture can support effective distribution of UDDI registries thereby making UDDI more robust and also addressing its scaling issues. Furthermore, The DUDE architecture for scalable distribution can be applied beyond UDDI to any Grid Service Discovery mechanism.',\n",
       " 'present_keyphrases': ['distributed web-service discovery architecture',\n",
       "  'autonomous control',\n",
       "  'discovery',\n",
       "  'scalability issue',\n",
       "  'grid computing',\n",
       "  'grid service discovery',\n",
       "  'uddi',\n",
       "  'web service',\n",
       "  'query',\n",
       "  'dht'],\n",
       " 'absent_keyphrases': ['bamboo dht code',\n",
       "  'uddi registry',\n",
       "  'md',\n",
       "  'longest available prefix',\n",
       "  'dht based uddi registry hierarchy',\n",
       "  'deployment issue',\n",
       "  'soft state',\n",
       "  'case-insensitive search',\n",
       "  'qos-based service discovery']}"
      ]
     },
     "execution_count": 2,
     "metadata": {},
     "output_type": "execute_result"
    }
   ],
   "source": [
    "dataset_name = \"semeval\"\n",
    "\n",
    "data = process_dataset(dataset_name)\n",
    "data[0]"
   ]
  },
  {
   "cell_type": "code",
   "execution_count": 3,
   "metadata": {},
   "outputs": [],
   "source": [
    "text = data[0][\"text\"]"
   ]
  },
  {
   "cell_type": "code",
   "execution_count": 6,
   "metadata": {},
   "outputs": [
    {
     "name": "stderr",
     "output_type": "stream",
     "text": [
      "/home/lamdo/keyphrase_informativeness_test/splade/splade/models/transformer_rep.py:89: FutureWarning: `torch.cuda.amp.autocast(args...)` is deprecated. Please use `torch.amp.autocast('cuda', args...)` instead.\n",
      "  with torch.cuda.amp.autocast() if self.fp16 else NullContextManager():\n",
      "/home/lamdo/keyphrase_informativeness_test/splade/splade/models/transformer_rep.py:32: FutureWarning: `torch.cuda.amp.autocast(args...)` is deprecated. Please use `torch.amp.autocast('cuda', args...)` instead.\n",
      "  with torch.cuda.amp.autocast() if self.fp16 else NullContextManager():\n"
     ]
    }
   ],
   "source": [
    "results = keyphrase_generation(doc = text, top_k = 10,\n",
    "                            informativeness_model_name=\"custom_trained_combined_references_nounphrase_v8-1\", \n",
    "                            length_penalty=-0.25, apply_position_penalty=True)"
   ]
  },
  {
   "cell_type": "code",
   "execution_count": 7,
   "metadata": {},
   "outputs": [
    {
     "data": {
      "text/plain": [
       "{'present': [('dude', np.float64(0.0036799995914597984)),\n",
       "  ('web services', np.float64(0.0028224810744751643)),\n",
       "  ('scalable grid service discovery', np.float64(0.002808037360774113)),\n",
       "  ('dude architecture', np.float64(0.002586873925734827)),\n",
       "  ('distributed web-service discovery architecture',\n",
       "   np.float64(0.0024397130480669407)),\n",
       "  ('deployment', np.float64(0.002191881529826632)),\n",
       "  ('deployment engine', np.float64(0.002161663057482559)),\n",
       "  ('grid service discovery mechanism', np.float64(0.0020995084513754127)),\n",
       "  ('grid', np.float64(0.001821880165335601)),\n",
       "  ('scalable web service discovery mechanisms',\n",
       "   np.float64(0.0017189291577586264))],\n",
       " 'absent': [('uddi efficient discovery', np.float64(0.0010216892535765735)),\n",
       "  ('semantic web', np.float64(0.00011230924773849851)),\n",
       "  ('smart grid', np.float64(7.56449342423385e-05)),\n",
       "  ('distributed computing', np.float64(6.427152771473637e-05)),\n",
       "  ('semantic web services', np.float64(3.8916247248675525e-05)),\n",
       "  ('asia pacific web conference', np.float64(3.140665608748561e-05)),\n",
       "  ('internet', np.float64(2.9869028562102155e-05)),\n",
       "  ('cloud computing', np.float64(2.9449259630992367e-05)),\n",
       "  ('distributed processing', np.float64(2.8253124298306554e-05)),\n",
       "  ('web service description', np.float64(2.2305159253883173e-05))]}"
      ]
     },
     "execution_count": 7,
     "metadata": {},
     "output_type": "execute_result"
    }
   ],
   "source": [
    "results"
   ]
  },
  {
   "cell_type": "code",
   "execution_count": null,
   "metadata": {},
   "outputs": [],
   "source": []
  }
 ],
 "metadata": {
  "language_info": {
   "name": "python"
  }
 },
 "nbformat": 4,
 "nbformat_minor": 2
}
