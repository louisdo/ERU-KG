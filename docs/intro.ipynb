{
 "cells": [
  {
   "cell_type": "markdown",
   "metadata": {},
   "source": [
    "# ERU-KG: Efficient Reference-aligned Unsupervised Keyphrase Generation"
   ]
  },
  {
   "cell_type": "code",
   "execution_count": 1,
   "metadata": {},
   "outputs": [
    {
     "name": "stderr",
     "output_type": "stream",
     "text": [
      "/home/lamdo/.local/lib/python3.10/site-packages/tqdm/auto.py:21: TqdmWarning: IProgress not found. Please update jupyter and ipywidgets. See https://ipywidgets.readthedocs.io/en/stable/user_install.html\n",
      "  from .autonotebook import tqdm as notebook_tqdm\n"
     ]
    },
    {
     "name": "stdout",
     "output_type": "stream",
     "text": [
      "Using device 'cuda'\n"
     ]
    }
   ],
   "source": [
    "import sys\n",
    "sys.path.append(\"../\")\n",
    "\n",
    "from erukg.erukg import keyphrase_generation_batch\n",
    "from erukg.process_dataset import process_dataset\n",
    "from tqdm import tqdm"
   ]
  },
  {
   "cell_type": "markdown",
   "metadata": {},
   "source": [
    "# Download prebuilt retrieval index\n",
    "\n",
    "Download prebuilt retrieval index at\n",
    "+ [ERU-KG-small]()\n",
    "+ [ERU-KG-base]()\n",
    "\n",
    "Please make sure that the downloaded index is stored at"
   ]
  },
  {
   "cell_type": "markdown",
   "metadata": {},
   "source": [
    "## Load a dataset"
   ]
  },
  {
   "cell_type": "code",
   "execution_count": 2,
   "metadata": {},
   "outputs": [
    {
     "data": {
      "text/plain": [
       "{'doc_id': 10,\n",
       " 'text': 'a frequency-based and a poisson-based definition of the probability of being informative\\nthis paper reports on theoretical investigations about the assumptions underlying the inverse document frequency (idf ). we show that an intuitive idf -based probability function for the probability of a term being informative assumes disjoint document events. by assuming documents to be independent rather than disjoint, we arrive at a poisson-based probability of being informative. the framework is useful for understanding and deciding the parameter estimation and combination in probabilistic retrieval models.',\n",
       " 'text_not_lowered': 'A Frequency-based and a Poisson-based Definition of the Probability of Being Informative\\nThis paper reports on theoretical investigations about the assumptions underlying the inverse document frequency (idf ). We show that an intuitive idf -based probability function for the probability of a term being informative assumes disjoint document events. By assuming documents to be independent rather than disjoint, we arrive at a Poisson-based probability of being informative. The framework is useful for understanding and deciding the parameter estimation and combination in probabilistic retrieval models.',\n",
       " 'present_keyphrases': ['probabilistic retrieval models',\n",
       "  'probability of being informative',\n",
       "  'poisson-based probability of being informative',\n",
       "  'assumptions',\n",
       "  'document frequency',\n",
       "  'inverse document frequency',\n",
       "  'inverse document frequency'],\n",
       " 'absent_keyphrases': ['inverse document frequency (idf)',\n",
       "  'independent and disjoint documents',\n",
       "  'computer science',\n",
       "  'information search',\n",
       "  'probability theories',\n",
       "  'poisson based probability',\n",
       "  'term frequency',\n",
       "  'independent documents',\n",
       "  'disjoint documents',\n",
       "  'normalisation',\n",
       "  'relevance-based ranking of retrieved objects',\n",
       "  'information theory',\n",
       "  'noise probability',\n",
       "  'frequency-based term noise probability',\n",
       "  'collection space',\n",
       "  'poisson distribution',\n",
       "  'probabilistic information retrieval',\n",
       "  'document space',\n",
       "  'document retrieval',\n",
       "  'entropy',\n",
       "  'frequency-based probability',\n",
       "  'information theory',\n",
       "  'independence assumption',\n",
       "  'maximal informative signal']}"
      ]
     },
     "execution_count": 2,
     "metadata": {},
     "output_type": "execute_result"
    }
   ],
   "source": [
    "dataset_name = \"nus\"\n",
    "\n",
    "data = process_dataset(dataset_name)\n",
    "data[1]"
   ]
  },
  {
   "cell_type": "markdown",
   "metadata": {},
   "source": [
    "## Generate keyphrases"
   ]
  },
  {
   "cell_type": "code",
   "execution_count": 3,
   "metadata": {},
   "outputs": [
    {
     "name": "stderr",
     "output_type": "stream",
     "text": [
      "  0%|          | 0/11 [00:00<?, ?it/s]"
     ]
    },
    {
     "name": "stdout",
     "output_type": "stream",
     "text": [
      "Init splade model custom_trained_combined_references_nounphrase_v8-1. This will be done only once\n",
      "Using /scratch/lamdo/splade_checkpoints/experiments_combined_references_v8-1/debug/checkpoint/model\n",
      "Initializing phraseness module: custom_trained_combined_references_nounphrase_v8-1\n"
     ]
    },
    {
     "name": "stderr",
     "output_type": "stream",
     "text": [
      "WARNING: Using incubator modules: jdk.incubator.vector\n",
      "Mar 03, 2025 4:21:09 PM org.apache.lucene.store.MemorySegmentIndexInputProvider <init>\n",
      "INFO: Using MemorySegmentIndexInput with Java 21; to disable start with -Dorg.apache.lucene.store.MMapDirectory.enableMemorySegments=false\n"
     ]
    },
    {
     "name": "stdout",
     "output_type": "stream",
     "text": [
      "Number of phrases in the glossary 222134\n"
     ]
    },
    {
     "name": "stderr",
     "output_type": "stream",
     "text": [
      "/home/lamdo/keyphrase_informativeness_test/splade/splade/models/transformer_rep.py:89: FutureWarning: `torch.cuda.amp.autocast(args...)` is deprecated. Please use `torch.amp.autocast('cuda', args...)` instead.\n",
      "  with torch.cuda.amp.autocast() if self.fp16 else NullContextManager():\n",
      "/home/lamdo/keyphrase_informativeness_test/splade/splade/models/transformer_rep.py:32: FutureWarning: `torch.cuda.amp.autocast(args...)` is deprecated. Please use `torch.amp.autocast('cuda', args...)` instead.\n",
      "  with torch.cuda.amp.autocast() if self.fp16 else NullContextManager():\n",
      "100%|██████████| 11/11 [00:32<00:00,  2.99s/it]\n"
     ]
    }
   ],
   "source": [
    "batch_size = 20\n",
    "\n",
    "all_results = []\n",
    "\n",
    "for i in tqdm(range(0, len(data), batch_size)):\n",
    "    batch = [line[\"text_not_lowered\"] for line in data[i:i+batch_size]]\n",
    "    batch_results = keyphrase_generation_batch(batch, top_k = 10,\n",
    "                            informativeness_model_name=\"custom_trained_combined_references_nounphrase_v8-1\", \n",
    "                            length_penalty=-0.25, apply_position_penalty=True)\n",
    "    \n",
    "    all_results.extend(batch_results)"
   ]
  },
  {
   "cell_type": "code",
   "execution_count": 4,
   "metadata": {},
   "outputs": [
    {
     "data": {
      "text/plain": [
       "{'present': [('probability', np.float64(0.018410828237179714)),\n",
       "  ('inverse document frequency', np.float64(0.00963436260776503)),\n",
       "  ('documents', np.float64(0.00816290749325514)),\n",
       "  ('being informative', np.float64(0.006970468442243887)),\n",
       "  ('document events', np.float64(0.005474343172366805)),\n",
       "  ('idf', np.float64(0.005413371139493116)),\n",
       "  ('informative assumes', np.float64(0.005342677186996375)),\n",
       "  ('poisson-based definition', np.float64(0.005231484672965365)),\n",
       "  ('poisson-based probability', np.float64(0.004396604864065742)),\n",
       "  ('intuitive idf', np.float64(0.0038152902716611166))],\n",
       " 'absent': [('information retrieval', np.float64(0.0007466307116998969)),\n",
       "  ('document clustering', np.float64(6.806279011488195e-05)),\n",
       "  ('document classification', np.float64(5.9835356007653145e-05)),\n",
       "  ('tf idf', np.float64(3.386327207703124e-05)),\n",
       "  ('information', np.float64(1.6570093548872918e-05)),\n",
       "  ('relevance', np.float64(1.5870815999641418e-05)),\n",
       "  ('language', np.float64(1.4302902093383172e-05)),\n",
       "  ('topic', np.float64(1.3085215305426634e-05)),\n",
       "  ('text', np.float64(8.886883690299609e-06)),\n",
       "  ('topic models', np.float64(6.022276876228546e-06))]}"
      ]
     },
     "execution_count": 4,
     "metadata": {},
     "output_type": "execute_result"
    }
   ],
   "source": [
    "all_results[1]"
   ]
  },
  {
   "cell_type": "code",
   "execution_count": null,
   "metadata": {},
   "outputs": [],
   "source": []
  }
 ],
 "metadata": {
  "language_info": {
   "name": "python"
  }
 },
 "nbformat": 4,
 "nbformat_minor": 2
}
