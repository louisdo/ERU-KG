{
 "cells": [
  {
   "cell_type": "code",
   "execution_count": 1,
   "metadata": {},
   "outputs": [
    {
     "name": "stderr",
     "output_type": "stream",
     "text": [
      "/home/lamdo/miniconda3/envs/venv310/lib/python3.10/site-packages/tqdm/auto.py:21: TqdmWarning: IProgress not found. Please update jupyter and ipywidgets. See https://ipywidgets.readthedocs.io/en/stable/user_install.html\n",
      "  from .autonotebook import tqdm as notebook_tqdm\n"
     ]
    }
   ],
   "source": [
    "import json\n",
    "from datasets import load_dataset"
   ]
  },
  {
   "cell_type": "code",
   "execution_count": 2,
   "metadata": {},
   "outputs": [],
   "source": [
    "with open(\"/scratch/lamdo/precompute_keyphrase_extraction/scidocs_queries--retrieval_based_ukg_custom_trained_combined_references_nounphrase_v8-1_position_penalty+length_penalty.json\") as f:\n",
    "    eru_kg_generations = json.load(f)\n",
    "\n",
    "with open(\"/scratch/lamdo/precompute_keyphrase_extraction/scidocs_queries--uokg-1.json\") as f:\n",
    "    uokg_generations = json.load(f)\n",
    "\n",
    "with open(\"/scratch/lamdo/precompute_keyphrase_extraction/scidocs_queries--autokeygen-1.json\") as f:\n",
    "    autokeygen_generations = json.load(f)\n",
    "\n",
    "with open(\"/scratch/lamdo/precompute_keyphrase_extraction/scidocs_queries--copyrnn-1.json\") as f:\n",
    "    copyrnn_generations = json.load(f)\n",
    "\n",
    "with open(\"/scratch/lamdo/precompute_keyphrase_extraction/scidocs_queries--tpg-1.json\") as f:\n",
    "    tpg_generations = json.load(f)"
   ]
  },
  {
   "cell_type": "code",
   "execution_count": 3,
   "metadata": {},
   "outputs": [],
   "source": [
    "ds = load_dataset(\"BeIR/scidocs\", \"queries\")"
   ]
  },
  {
   "cell_type": "code",
   "execution_count": 4,
   "metadata": {},
   "outputs": [
    {
     "data": {
      "text/plain": [
       "{'_id': 'df0ef17f63582603dafb1ac5c489dec1416ecbf4',\n",
       " 'title': '',\n",
       " 'text': 'Real World BCI: Cross-Domain Learning and Practical Applications'}"
      ]
     },
     "execution_count": 4,
     "metadata": {},
     "output_type": "execute_result"
    }
   ],
   "source": [
    "INDEX = 40\n",
    "ds[\"queries\"][INDEX]"
   ]
  },
  {
   "cell_type": "code",
   "execution_count": 5,
   "metadata": {},
   "outputs": [],
   "source": [
    "def check_truly_absent(phrase, text):\n",
    "    text_tokens = set(text.split())\n",
    "    tokens = phrase.split()\n",
    "    return not all([tok in text for tok in tokens])"
   ]
  },
  {
   "cell_type": "code",
   "execution_count": 6,
   "metadata": {},
   "outputs": [
    {
     "name": "stdout",
     "output_type": "stream",
     "text": [
      "eru_kg\n",
      "present: real world bci, cross-domain learning, practical applications, bci, domain, rl\n",
      "absent: domain adaptation, source domain, target domain, cross domain recommendation, bcis, eeg, cross domain, brain computer interface, cross domain transfer, domain shift\n",
      "0.9\n",
      "\n",
      "\n",
      "autokeygen\n",
      "present: practical applications, cross-domain learning, real world, real world bci, bci, learning, practical application, world bci, applications, practical\n",
      "absent: practical learning, real world applications, learning applications, bci applications, learning models, real applications, learning system, learning method, learning model, learning methods\n",
      "0.5\n",
      "\n",
      "\n",
      "uokg\n",
      "present: real world bci, real world, world bci, real, practical applications, world, cross-domain learning, bci, applications, learning\n",
      "absent: real world applications, bci applications, practical learning, real applications, learning applications, practical real world applications, real world practical applications, practical learning bci applications, practical learning world bci applications, practical learning applications\n",
      "0.0\n",
      "\n",
      "\n",
      "copyrnn\n",
      "present: cross-domain learning, bci, learning, applications, practical, cross-domain, real world, real\n",
      "absent: world wide web, cross-domain world wide web, real world wide web, learning world wide web, <tgt_unk>, learning applications, cross-domain applications, support vector machines, real time, finite element method\n",
      "0.8\n",
      "\n",
      "\n",
      "tpg\n",
      "present: practical applications\n",
      "absent: earreal world bci, cross keepdomain learning, cross keepers, keepers, bci keeps, keeps, beingsdomain learning application, learning application, homeostatic activity, activity\n",
      "0.9\n",
      "\n",
      "\n"
     ]
    }
   ],
   "source": [
    "model_names = [\"eru_kg\", \"autokeygen\", \"uokg\", \"copyrnn\", \"tpg\"]\n",
    "\n",
    "for i, generations in enumerate([eru_kg_generations, autokeygen_generations, uokg_generations, copyrnn_generations, tpg_generations]):\n",
    "    keyphrases = generations[INDEX].get(\"automatically_extracted_keyphrases\")\n",
    "    present_keyphrases = keyphrases.get(\"present_keyphrases\")[:10]\n",
    "    absent_keyphrases = keyphrases.get(\"absent_keyphrases\")[:10]\n",
    "\n",
    "    truly_absent_keyphrases = [item for item in absent_keyphrases if check_truly_absent(item, ds[\"queries\"][INDEX][\"text\"].lower())]\n",
    "\n",
    "    print(model_names[i])\n",
    "    print(\"present:\", \", \".join(present_keyphrases))\n",
    "    print(\"absent:\",\", \".join(absent_keyphrases))\n",
    "\n",
    "    print(len(truly_absent_keyphrases) / len(absent_keyphrases))\n",
    "    print(\"\\n\")"
   ]
  },
  {
   "cell_type": "code",
   "execution_count": 20,
   "metadata": {},
   "outputs": [
    {
     "data": {
      "text/plain": [
       "{'present_keyphrases': [],\n",
       " 'absent_keyphrases': [],\n",
       " 'automatically_extracted_keyphrases': {'present_keyphrases': ['wordnet',\n",
       "   'retrieval',\n",
       "   'ad hoc retrieval',\n",
       "   'thesauri',\n",
       "   'ad hoc',\n",
       "   'experiments'],\n",
       "  'absent_keyphrases': ['ad hoc networks',\n",
       "   '<tgt_unk>',\n",
       "   'ad hoc wordnet',\n",
       "   'ad hoc wireless networks',\n",
       "   'information retrieval',\n",
       "   'analysis of algorithms',\n",
       "   'ad hoc network',\n",
       "   'support vector machines',\n",
       "   'data mining',\n",
       "   'finite element method',\n",
       "   'image retrieval',\n",
       "   'finite element analysis',\n",
       "   'ad hoc and wordnet',\n",
       "   'machine learning',\n",
       "   'of experiments',\n",
       "   'data retrieval',\n",
       "   'genetic algorithm',\n",
       "   'artificial intelligence',\n",
       "   'data structures',\n",
       "   'fuzzy logic',\n",
       "   'genetic algorithms',\n",
       "   'combinatorial problems',\n",
       "   'image processing',\n",
       "   'feature selection',\n",
       "   'computer vision',\n",
       "   'pattern recognition',\n",
       "   'ad retrieval',\n",
       "   '<tgt_unk> retrieval',\n",
       "   'decision making',\n",
       "   'problem solving',\n",
       "   'computational complexity',\n",
       "   'feature extraction',\n",
       "   'low power',\n",
       "   'software engineering',\n",
       "   'computational geometry',\n",
       "   'computer experiments',\n",
       "   'wordnet thesauri',\n",
       "   'and wordnet',\n",
       "   'algorithms',\n",
       "   'decision support',\n",
       "   'languages',\n",
       "   'analysis',\n",
       "   'networks',\n",
       "   'optimization',\n",
       "   'design',\n",
       "   'algorithm',\n",
       "   'management',\n",
       "   'security',\n",
       "   'classification',\n",
       "   'models',\n",
       "   'methods',\n",
       "   'performance',\n",
       "   'model',\n",
       "   'theory',\n",
       "   'simulation',\n",
       "   'modeling',\n",
       "   'computation',\n",
       "   'clustering',\n",
       "   'scheduling',\n",
       "   'method',\n",
       "   'representation',\n",
       "   'education',\n",
       "   'systems',\n",
       "   'evaluation',\n",
       "   'measurement',\n",
       "   'applications',\n",
       "   'detection',\n",
       "   'architecture',\n",
       "   'complexity',\n",
       "   'computing',\n",
       "   'software',\n",
       "   'modelling',\n",
       "   'programming',\n",
       "   'learning',\n",
       "   'techniques',\n",
       "   'communication',\n",
       "   'efficiency',\n",
       "   'interaction',\n",
       "   'integration',\n",
       "   'program',\n",
       "   'internet',\n",
       "   'network',\n",
       "   'structure',\n",
       "   'data',\n",
       "   'processing',\n",
       "   'pattern',\n",
       "   'function',\n",
       "   'control',\n",
       "   'logic',\n",
       "   'engineering',\n",
       "   'interface',\n",
       "   'process',\n",
       "   'flow',\n",
       "   'dynamic']}}"
      ]
     },
     "execution_count": 20,
     "metadata": {},
     "output_type": "execute_result"
    }
   ],
   "source": [
    "copyrnn_generations[4]"
   ]
  },
  {
   "cell_type": "code",
   "execution_count": 19,
   "metadata": {},
   "outputs": [
    {
     "data": {
      "text/plain": [
       "{'present_keyphrases': [],\n",
       " 'absent_keyphrases': [],\n",
       " 'automatically_extracted_keyphrases': {'present_keyphrases': [],\n",
       "  'absent_keyphrases': ['ars Picoc Retrieval Experiments',\n",
       "   'keepsauri',\n",
       "   'wouldard',\n",
       "   'pictures',\n",
       "   'pictorial pearl',\n",
       "   'pearl',\n",
       "   'beings',\n",
       "   'pictorial photographs',\n",
       "   'photographs',\n",
       "   'arsenoc Retrieval Experiments',\n",
       "   'pictorial soup',\n",
       "   'soup',\n",
       "   'pictorials',\n",
       "   'photos',\n",
       "   'tribute',\n",
       "   'animals',\n",
       "   'bearl',\n",
       "   'beeps',\n",
       "   'pictorial companions',\n",
       "   'companions',\n",
       "   'pile',\n",
       "   'courtesy',\n",
       "   'affect',\n",
       "   'pearls',\n",
       "   'mock',\n",
       "   'how',\n",
       "   'affairs',\n",
       "   'mood',\n",
       "   'beauty',\n",
       "   'tricks',\n",
       "   'howard']}}"
      ]
     },
     "execution_count": 19,
     "metadata": {},
     "output_type": "execute_result"
    }
   ],
   "source": [
    "tpg_generations[4]"
   ]
  },
  {
   "cell_type": "code",
   "execution_count": null,
   "metadata": {},
   "outputs": [],
   "source": []
  }
 ],
 "metadata": {
  "kernelspec": {
   "display_name": "venv310",
   "language": "python",
   "name": "python3"
  },
  "language_info": {
   "codemirror_mode": {
    "name": "ipython",
    "version": 3
   },
   "file_extension": ".py",
   "mimetype": "text/x-python",
   "name": "python",
   "nbconvert_exporter": "python",
   "pygments_lexer": "ipython3",
   "version": "3.10.14"
  }
 },
 "nbformat": 4,
 "nbformat_minor": 2
}
