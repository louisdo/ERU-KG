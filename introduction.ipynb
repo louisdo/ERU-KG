{
 "cells": [
  {
   "cell_type": "code",
   "execution_count": 1,
   "id": "0b8a9009",
   "metadata": {},
   "outputs": [
    {
     "name": "stderr",
     "output_type": "stream",
     "text": [
      "/home/lamdo/.local/lib/python3.10/site-packages/tqdm/auto.py:21: TqdmWarning: IProgress not found. Please update jupyter and ipywidgets. See https://ipywidgets.readthedocs.io/en/stable/user_install.html\n",
      "  from .autonotebook import tqdm as notebook_tqdm\n"
     ]
    }
   ],
   "source": [
    "from erukg import keyphrase_generation, keyphrase_generation_batch, HYPERPARAMS, GENERAL_CONFIG"
   ]
  },
  {
   "cell_type": "code",
   "execution_count": 4,
   "id": "98a288b7",
   "metadata": {},
   "outputs": [
    {
     "name": "stderr",
     "output_type": "stream",
     "text": [
      "/home/lamdo/keyphrase_informativeness_test/../splade/splade/models/transformer_rep.py:89: FutureWarning: `torch.cuda.amp.autocast(args...)` is deprecated. Please use `torch.amp.autocast('cuda', args...)` instead.\n",
      "  with torch.cuda.amp.autocast() if self.fp16 else NullContextManager():\n",
      "/home/lamdo/keyphrase_informativeness_test/../splade/splade/models/transformer_rep.py:32: FutureWarning: `torch.cuda.amp.autocast(args...)` is deprecated. Please use `torch.amp.autocast('cuda', args...)` instead.\n",
      "  with torch.cuda.amp.autocast() if self.fp16 else NullContextManager():\n"
     ]
    },
    {
     "data": {
      "text/plain": [
       "{'present': [('ice', np.float64(0.0008091454830581864)),\n",
       "  ('sky', np.float64(0.0006928305592216728)),\n",
       "  ('underwater ice', np.float64(0.0005945286807255217)),\n",
       "  ('close-range optical images', np.float64(0.0005274040089577318)),\n",
       "  ('sea ice formations', np.float64(0.00050319499451852)),\n",
       "  ('remote sensing', np.float64(0.0004909716672321371)),\n",
       "  ('brash ice', np.float64(0.00045993367962926805)),\n",
       "  ('level ice', np.float64(0.0004433656962746147)),\n",
       "  ('shore', np.float64(0.0004213157285227997)),\n",
       "  ('pancake ice', np.float64(0.00041393013789407817))],\n",
       " 'absent': [],\n",
       " 'pruning_latency': None}"
      ]
     },
     "execution_count": 4,
     "metadata": {},
     "output_type": "execute_result"
    }
   ],
   "source": [
    "text = \"\"\"Supplementing Remote Sensing of Ice: Deep Learning-Based Image Segmentation System for Automatic Detection and Localization of Sea ice Formations From Close-Range Optical Images. This paper presents a three-stage approach for the automated analysis of close-range optical images containing ice objects. The proposed system is based on an ensemble of deep learning models and conditional random field postprocessing. The following surface ice formations were considered: Icebergs, Deformed ice, Level ice, Broken ice, Ice floes, Floebergs, Floebits, Pancake ice, and Brash ice. Additionally, five non-surface ice categories were considered: Sky, Open water, Shore, Underwater ice, and Melt ponds. To find input parameters for the approach, the performance of 12 different neural network architectures was explored and evaluated using a 5-fold cross-validation scheme. The best performance was achieved using an ensemble of models having pyramid pooling layers (PSPNet, PSPDenseNet, DeepLabV3+, and UPerNet) and convolutional conditional random field postprocessing with a mean intersection over union score of 0.799, and this outperformed the best single-model approach. The results of this study show that when per-class performance was considered, the Sky was the easiest class to predict, followed by Deformed ice and Open water. Melt pond was the most challenging class to predict. Furthermore, we have extensively explored the strengths and weaknesses of our approach and, in the process, discovered the types of scenes that pose a more significant challenge to the underlying neural networks. When coupled with optical sensors and AIS, the proposed approach can serve as a supplementary source of large-scale `ground truth' data for validation of satellite-based sea-ice products. We have provided an implementation of the approach at https://github.com/panchinabil/sea_ice_segmentation.\"\"\"\n",
    "\n",
    "HYPERPARAMS[\"alpha\"] = 0.6\n",
    "HYPERPARAMS[\"beta\"] = 0.6\n",
    "HYPERPARAMS[\"neighbor_size\"] = 100\n",
    "HYPERPARAMS[\"length_penalty\"] = -0.25\n",
    "\n",
    "# GENERAL_CONFIG[\"cache_dir\"] = \"/scratch/lamdo\"\n",
    "\n",
    "keyphrase_generation(\n",
    "    doc = text,\n",
    "    top_k = 10,\n",
    "    informativeness_model_name=\"eru-kg-base\",\n",
    "    apply_position_penalty=True,\n",
    "    no_retrieval = True\n",
    ")"
   ]
  },
  {
   "cell_type": "code",
   "execution_count": 3,
   "id": "321c8e77",
   "metadata": {},
   "outputs": [
    {
     "data": {
      "text/plain": [
       "'/home/lamdo/.cache/erukg_cache'"
      ]
     },
     "execution_count": 3,
     "metadata": {},
     "output_type": "execute_result"
    }
   ],
   "source": [
    "GENERAL_CONFIG[\"cache_dir\"]"
   ]
  },
  {
   "cell_type": "code",
   "execution_count": null,
   "id": "6e1363ef",
   "metadata": {},
   "outputs": [],
   "source": []
  }
 ],
 "metadata": {
  "kernelspec": {
   "display_name": "venv310",
   "language": "python",
   "name": "python3"
  },
  "language_info": {
   "codemirror_mode": {
    "name": "ipython",
    "version": 3
   },
   "file_extension": ".py",
   "mimetype": "text/x-python",
   "name": "python",
   "nbconvert_exporter": "python",
   "pygments_lexer": "ipython3",
   "version": "3.10.14"
  }
 },
 "nbformat": 4,
 "nbformat_minor": 5
}
