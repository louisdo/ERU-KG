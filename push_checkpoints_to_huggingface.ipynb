{
 "cells": [
  {
   "cell_type": "code",
   "execution_count": 2,
   "metadata": {},
   "outputs": [],
   "source": [
    "from transformers import AutoTokenizer, AutoModelForMaskedLM"
   ]
  },
  {
   "cell_type": "markdown",
   "metadata": {},
   "source": [
    "# Base version"
   ]
  },
  {
   "cell_type": "code",
   "execution_count": 3,
   "metadata": {},
   "outputs": [],
   "source": [
    "checkpoint_path = \"/scratch/lamdo/splade_checkpoints/experiments_combined_references_v8-1/debug/checkpoint/model\"\n",
    "model = AutoModelForMaskedLM.from_pretrained(checkpoint_path)\n",
    "tokenizer = AutoTokenizer.from_pretrained(checkpoint_path)"
   ]
  },
  {
   "cell_type": "code",
   "execution_count": 4,
   "metadata": {},
   "outputs": [
    {
     "name": "stderr",
     "output_type": "stream",
     "text": [
      "model.safetensors: 100%|██████████| 268M/268M [00:06<00:00, 42.8MB/s] \n"
     ]
    },
    {
     "data": {
      "text/plain": [
       "CommitInfo(commit_url='https://huggingface.co/lamdo/eru-kg-base/commit/9c8e78be3c349bfc0b056af36d906d2e6fd7be1d', commit_message='Upload tokenizer', commit_description='', oid='9c8e78be3c349bfc0b056af36d906d2e6fd7be1d', pr_url=None, repo_url=RepoUrl('https://huggingface.co/lamdo/eru-kg-base', endpoint='https://huggingface.co', repo_type='model', repo_id='lamdo/eru-kg-base'), pr_revision=None, pr_num=None)"
      ]
     },
     "execution_count": 4,
     "metadata": {},
     "output_type": "execute_result"
    }
   ],
   "source": [
    "# push to huggingface\n",
    "model.push_to_hub(\"lamdo/eru-kg-base\")\n",
    "tokenizer.push_to_hub(\"lamdo/eru-kg-base\")"
   ]
  },
  {
   "cell_type": "markdown",
   "metadata": {},
   "source": [
    "# Small version"
   ]
  },
  {
   "cell_type": "code",
   "execution_count": 5,
   "metadata": {},
   "outputs": [
    {
     "name": "stderr",
     "output_type": "stream",
     "text": [
      "BertForMaskedLM has generative capabilities, as `prepare_inputs_for_generation` is explicitly overwritten. However, it doesn't directly inherit from `GenerationMixin`. From 👉v4.50👈 onwards, `PreTrainedModel` will NOT inherit from `GenerationMixin`, and this model will lose the ability to call `generate` and other related functions.\n",
      "  - If you're using `trust_remote_code=True`, you can get rid of this warning by loading the model with an auto class. See https://huggingface.co/docs/transformers/en/model_doc/auto#auto-classes\n",
      "  - If you are the owner of the model architecture code, please modify your model class such that it inherits from `GenerationMixin` (after `PreTrainedModel`, otherwise you'll get an exception).\n",
      "  - If you are not the owner of the model architecture class, please contact the model code owner to update it.\n"
     ]
    }
   ],
   "source": [
    "checkpoint_path = \"/scratch/lamdo/splade_checkpoints/experiments_combined_references_v9-1/debug/checkpoint/model\"\n",
    "model = AutoModelForMaskedLM.from_pretrained(checkpoint_path)\n",
    "tokenizer = AutoTokenizer.from_pretrained(checkpoint_path)"
   ]
  },
  {
   "cell_type": "code",
   "execution_count": 6,
   "metadata": {},
   "outputs": [
    {
     "name": "stderr",
     "output_type": "stream",
     "text": [
      "model.safetensors: 100%|██████████| 140M/140M [00:03<00:00, 45.1MB/s] \n"
     ]
    },
    {
     "data": {
      "text/plain": [
       "CommitInfo(commit_url='https://huggingface.co/lamdo/eru-kg-small/commit/d07674015a726c7282220032992a4230ffc967d3', commit_message='Upload tokenizer', commit_description='', oid='d07674015a726c7282220032992a4230ffc967d3', pr_url=None, repo_url=RepoUrl('https://huggingface.co/lamdo/eru-kg-small', endpoint='https://huggingface.co', repo_type='model', repo_id='lamdo/eru-kg-small'), pr_revision=None, pr_num=None)"
      ]
     },
     "execution_count": 6,
     "metadata": {},
     "output_type": "execute_result"
    }
   ],
   "source": [
    "# push to huggingface\n",
    "model.push_to_hub(\"lamdo/eru-kg-small\")\n",
    "tokenizer.push_to_hub(\"lamdo/eru-kg-small\")"
   ]
  },
  {
   "cell_type": "code",
   "execution_count": null,
   "metadata": {},
   "outputs": [],
   "source": []
  }
 ],
 "metadata": {
  "language_info": {
   "name": "python"
  }
 },
 "nbformat": 4,
 "nbformat_minor": 2
}
