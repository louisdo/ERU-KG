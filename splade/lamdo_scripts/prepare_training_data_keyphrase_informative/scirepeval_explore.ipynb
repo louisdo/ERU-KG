{
 "cells": [
  {
   "cell_type": "code",
   "execution_count": 9,
   "metadata": {},
   "outputs": [],
   "source": [
    "from datasets import load_dataset"
   ]
  },
  {
   "cell_type": "code",
   "execution_count": 13,
   "metadata": {},
   "outputs": [
    {
     "name": "stderr",
     "output_type": "stream",
     "text": [
      "Downloading data: 100%|██████████| 45.4M/45.4M [00:01<00:00, 45.1MB/s]\n",
      "Downloading data: 100%|██████████| 235M/235M [00:05<00:00, 39.8MB/s] \n",
      "Downloading data: 100%|██████████| 233M/233M [00:06<00:00, 36.8MB/s] \n",
      "Downloading data: 100%|██████████| 233M/233M [00:05<00:00, 41.7MB/s] \n",
      "Downloading data: 100%|██████████| 234M/234M [00:06<00:00, 38.4MB/s] \n",
      "Downloading data: 100%|██████████| 232M/232M [00:06<00:00, 34.0MB/s] \n",
      "Downloading data: 100%|██████████| 233M/233M [00:05<00:00, 42.4MB/s] \n",
      "Downloading data: 100%|██████████| 177M/177M [00:05<00:00, 32.5MB/s] \n",
      "Generating evaluation split: 100%|██████████| 1199/1199 [00:01<00:00, 927.29 examples/s] \n",
      "Generating train split: 100%|██████████| 58626/58626 [00:36<00:00, 1622.20 examples/s]\n",
      "Generating validation split: 100%|██████████| 7356/7356 [00:04<00:00, 1600.86 examples/s]\n"
     ]
    }
   ],
   "source": [
    "ds = load_dataset(\"allenai/scirepeval\", \"high_influence_cite\")"
   ]
  },
  {
   "cell_type": "code",
   "execution_count": 12,
   "metadata": {},
   "outputs": [
    {
     "data": {
      "text/plain": [
       "{0, 1}"
      ]
     },
     "execution_count": 12,
     "metadata": {},
     "output_type": "execute_result"
    }
   ],
   "source": [
    "set([item.get(\"score\") for item in ds[\"train\"][0][\"candidates\"]])"
   ]
  },
  {
   "cell_type": "code",
   "execution_count": 14,
   "metadata": {},
   "outputs": [
    {
     "data": {
      "text/plain": [
       "DatasetDict({\n",
       "    evaluation: Dataset({\n",
       "        features: ['query', 'candidates'],\n",
       "        num_rows: 1199\n",
       "    })\n",
       "    train: Dataset({\n",
       "        features: ['query', 'candidates'],\n",
       "        num_rows: 58626\n",
       "    })\n",
       "    validation: Dataset({\n",
       "        features: ['query', 'candidates'],\n",
       "        num_rows: 7356\n",
       "    })\n",
       "})"
      ]
     },
     "execution_count": 14,
     "metadata": {},
     "output_type": "execute_result"
    }
   ],
   "source": [
    "ds"
   ]
  },
  {
   "cell_type": "code",
   "execution_count": 19,
   "metadata": {},
   "outputs": [
    {
     "data": {
      "text/plain": [
       "{0, 1}"
      ]
     },
     "execution_count": 19,
     "metadata": {},
     "output_type": "execute_result"
    }
   ],
   "source": [
    "set([item.get(\"score\") for index in range(100) for item in ds[\"train\"][index][\"candidates\"]])"
   ]
  },
  {
   "cell_type": "code",
   "execution_count": 23,
   "metadata": {},
   "outputs": [
    {
     "data": {
      "text/plain": [
       "{'doc_id': '119291715',\n",
       " 'title': 'Contextuality with a Small Number of Observables',\n",
       " 'abstract': \"We investigate small geometric configurations that furnish observable-based proofs of the Kochen-Specker theorem. Assuming that each context consists of the same number of observables and each observable is shared by two contexts, it is proved that the most economical proofs are the famous Mermin-Peres square and the Mermin pentagram featuring, respectively, $9$ and $10$ observables, there being no proofs using less than $9$ observables. We also propose a new proof with $14$ observables forming a `magic' heptagram. On the other hand, some other prominent small-size finite geometries, like the Pasch configuration and the prism, are shown not to be contextual.\",\n",
       " 'corpus_id': 119291715}"
      ]
     },
     "execution_count": 23,
     "metadata": {},
     "output_type": "execute_result"
    }
   ],
   "source": [
    "ds[\"train\"][0][\"query\"]"
   ]
  },
  {
   "cell_type": "code",
   "execution_count": null,
   "metadata": {},
   "outputs": [],
   "source": []
  }
 ],
 "metadata": {
  "kernelspec": {
   "display_name": "venv310",
   "language": "python",
   "name": "python3"
  },
  "language_info": {
   "codemirror_mode": {
    "name": "ipython",
    "version": 3
   },
   "file_extension": ".py",
   "mimetype": "text/x-python",
   "name": "python",
   "nbconvert_exporter": "python",
   "pygments_lexer": "ipython3",
   "version": "3.10.14"
  }
 },
 "nbformat": 4,
 "nbformat_minor": 2
}
