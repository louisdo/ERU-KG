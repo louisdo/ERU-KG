{
 "cells": [
  {
   "cell_type": "code",
   "execution_count": 1,
   "metadata": {},
   "outputs": [
    {
     "name": "stderr",
     "output_type": "stream",
     "text": [
      "/home/lamdo/miniconda3/envs/venv310/lib/python3.10/site-packages/tqdm/auto.py:21: TqdmWarning: IProgress not found. Please update jupyter and ipywidgets. See https://ipywidgets.readthedocs.io/en/stable/user_install.html\n",
      "  from .autonotebook import tqdm as notebook_tqdm\n"
     ]
    }
   ],
   "source": [
    "import json, os, nltk, sys\n",
    "sys.path.append(\"../\")\n",
    "from process_dataset import process_dataset\n",
    "from collections import Counter\n",
    "from tqdm import tqdm"
   ]
  },
  {
   "cell_type": "code",
   "execution_count": 5,
   "metadata": {},
   "outputs": [],
   "source": [
    "KG_RESULTS_FOLDER = \"/scratch/lamdo/precompute_keyphrase_extraction\"\n",
    "\n",
    "datasets = [\"scifact_queries\", \"scidocs_queries\", \"trec_covid_queries\", \"nfcorpus_queries\", \"doris_mae_queries\", \"acm_cr_queries\"]\n",
    "# datasets = [\"scifact\", \"scidocs\", \"trec_covid\", \"nf_corpus\", \"doris_mae\", \"acm_cr\"]\n",
    "models = [\"autokeygen-1\", \"copyrnn-1\", \"uokg-1\", \"retrieval_based_ukg_custom_trained_combined_references_nounphrase_v8-1_position_penalty+length_penalty\", \"tpg-1\"][:]"
   ]
  },
  {
   "cell_type": "code",
   "execution_count": 6,
   "metadata": {},
   "outputs": [],
   "source": [
    "PORTER_STEMMER = nltk.stem.PorterStemmer()\n",
    "def check_absent_keyphrase_type(text, absent_keyphrases):\n",
    "    # 0: reordered, 1: mix, 2: unseen\n",
    "\n",
    "    text_tokens = nltk.tokenize.word_tokenize(text.lower())\n",
    "    stemmed_text_tokens = set([PORTER_STEMMER.stem(token) for token in text_tokens])\n",
    "    stemmed_text_tokens_joined = \" \".join(stemmed_text_tokens)\n",
    "\n",
    "    absent_keyphrases_types = []\n",
    "    absent_terms_added = set([])\n",
    "    terms_added = set([])\n",
    "    for absent_keyphrase in absent_keyphrases:\n",
    "        absent_keyphrase_tokens = nltk.tokenize.word_tokenize(absent_keyphrase)\n",
    "        stemmed_absent_keyphrase_tokens = set([PORTER_STEMMER.stem(token) for token in absent_keyphrase_tokens])\n",
    "\n",
    "        overlap_keyphrase_text = set([tok for tok in stemmed_absent_keyphrase_tokens if tok in stemmed_text_tokens_joined])\n",
    "        absent_terms = stemmed_absent_keyphrase_tokens.difference(overlap_keyphrase_text)\n",
    "        absent_terms_added.update(absent_terms)\n",
    "        terms_added.update(stemmed_absent_keyphrase_tokens)\n",
    "\n",
    "        if len(overlap_keyphrase_text) == len(absent_keyphrase_tokens): \n",
    "            absent_keyphrases_types.append(0)\n",
    "        elif len(absent_keyphrase_tokens) > len(overlap_keyphrase_text) > 0: \n",
    "            absent_keyphrases_types.append(1)\n",
    "        else: \n",
    "            absent_keyphrases_types.append(2)\n",
    "\n",
    "    return absent_keyphrases_types, len(absent_terms_added), len(terms_added)"
   ]
  },
  {
   "cell_type": "code",
   "execution_count": 8,
   "metadata": {},
   "outputs": [
    {
     "name": "stderr",
     "output_type": "stream",
     "text": [
      "scifact_queries--autokeygen-1: 100%|██████████| 1109/1109 [00:01<00:00, 732.62it/s]\n",
      "scifact_queries--copyrnn-1: 100%|██████████| 1109/1109 [00:01<00:00, 785.58it/s]\n",
      "scifact_queries--uokg-1: 100%|██████████| 1109/1109 [00:01<00:00, 705.71it/s]\n",
      "scifact_queries--retrieval_based_ukg_custom_trained_combined_references_nounphrase_v8-1_position_penalty+length_penalty: 100%|██████████| 1109/1109 [00:01<00:00, 779.49it/s]\n",
      "scifact_queries--tpg-1: 100%|██████████| 1109/1109 [00:01<00:00, 724.40it/s]\n",
      "scidocs_queries--autokeygen-1: 100%|██████████| 1000/1000 [00:01<00:00, 729.89it/s]\n",
      "scidocs_queries--copyrnn-1: 100%|██████████| 1000/1000 [00:01<00:00, 711.38it/s]\n",
      "scidocs_queries--uokg-1: 100%|██████████| 1000/1000 [00:01<00:00, 633.95it/s]\n",
      "scidocs_queries--retrieval_based_ukg_custom_trained_combined_references_nounphrase_v8-1_position_penalty+length_penalty: 100%|██████████| 1000/1000 [00:01<00:00, 676.21it/s]\n",
      "scidocs_queries--tpg-1: 100%|██████████| 1000/1000 [00:00<00:00, 1035.56it/s]\n",
      "trec_covid_queries--autokeygen-1: 100%|██████████| 50/50 [00:00<00:00, 777.51it/s]\n",
      "trec_covid_queries--copyrnn-1: 100%|██████████| 50/50 [00:00<00:00, 801.21it/s]\n",
      "trec_covid_queries--uokg-1: 100%|██████████| 50/50 [00:00<00:00, 733.87it/s]\n",
      "trec_covid_queries--retrieval_based_ukg_custom_trained_combined_references_nounphrase_v8-1_position_penalty+length_penalty: 100%|██████████| 50/50 [00:00<00:00, 845.55it/s]\n",
      "trec_covid_queries--tpg-1: 100%|██████████| 50/50 [00:00<00:00, 977.99it/s]\n",
      "nfcorpus_queries--autokeygen-1: 100%|██████████| 3237/3237 [00:02<00:00, 1145.48it/s]\n",
      "nfcorpus_queries--copyrnn-1: 100%|██████████| 3237/3237 [00:03<00:00, 1029.16it/s]\n",
      "nfcorpus_queries--uokg-1: 100%|██████████| 3237/3237 [00:03<00:00, 1066.16it/s]\n",
      "nfcorpus_queries--retrieval_based_ukg_custom_trained_combined_references_nounphrase_v8-1_position_penalty+length_penalty: 100%|██████████| 3237/3237 [00:02<00:00, 1148.81it/s]\n",
      "nfcorpus_queries--tpg-1: 100%|██████████| 3237/3237 [00:02<00:00, 1490.35it/s]\n",
      "doris_mae_queries--autokeygen-1: 100%|██████████| 100/100 [00:00<00:00, 221.84it/s]\n",
      "doris_mae_queries--copyrnn-1: 100%|██████████| 100/100 [00:00<00:00, 220.63it/s]\n",
      "doris_mae_queries--uokg-1: 100%|██████████| 100/100 [00:00<00:00, 226.88it/s]\n",
      "doris_mae_queries--retrieval_based_ukg_custom_trained_combined_references_nounphrase_v8-1_position_penalty+length_penalty: 100%|██████████| 100/100 [00:00<00:00, 183.75it/s]\n",
      "doris_mae_queries--tpg-1: 100%|██████████| 100/100 [00:00<00:00, 227.42it/s]\n",
      "acm_cr_queries--autokeygen-1: 100%|██████████| 552/552 [00:00<00:00, 601.14it/s]\n",
      "acm_cr_queries--copyrnn-1: 100%|██████████| 552/552 [00:00<00:00, 608.74it/s]\n",
      "acm_cr_queries--uokg-1: 100%|██████████| 552/552 [00:00<00:00, 632.02it/s]\n",
      "acm_cr_queries--retrieval_based_ukg_custom_trained_combined_references_nounphrase_v8-1_position_penalty+length_penalty: 100%|██████████| 552/552 [00:00<00:00, 605.87it/s]\n",
      "acm_cr_queries--tpg-1: 100%|██████████| 552/552 [00:00<00:00, 677.34it/s]\n"
     ]
    }
   ],
   "source": [
    "record = {}\n",
    "number_of_absent_terms_added = {}\n",
    "total = {}\n",
    "number_of_inputs = 0\n",
    "for dataset in datasets[:]:\n",
    "    record[dataset] = {}\n",
    "    ds = process_dataset(dataset)\n",
    "    number_of_inputs += len(ds)\n",
    "    for model in models:\n",
    "        record[dataset][model] = Counter()\n",
    "\n",
    "        if not number_of_absent_terms_added.get(model):\n",
    "            number_of_absent_terms_added[model] = 0\n",
    "            total[model] = 0\n",
    "\n",
    "        file_name = f\"{dataset}--{model}.json\"\n",
    "        file_path = os.path.join(KG_RESULTS_FOLDER, file_name)\n",
    "\n",
    "        with open(file_path, \"r\") as f:\n",
    "            data = json.load(f)\n",
    "\n",
    "        top_k = 5 if \"queries\" in dataset else 10\n",
    "        all_absent_keyphrases = [item[\"automatically_extracted_keyphrases\"][\"present_keyphrases\"][:top_k] + item[\"automatically_extracted_keyphrases\"][\"absent_keyphrases\"][:top_k] for item in data]\n",
    "        \n",
    "        assert len(ds) == len(all_absent_keyphrases)\n",
    "        for i in tqdm(range(len(ds)), desc=f\"{dataset}--{model}\"):\n",
    "            line = ds[i]\n",
    "            absent_keyphrases = all_absent_keyphrases[i]\n",
    "\n",
    "            temp = list(check_absent_keyphrase_type(line[\"text\"], absent_keyphrases))\n",
    "            absent_keyphrase_type = temp[0]\n",
    "            num_absent_terms_added = temp[1]\n",
    "            num_terms = temp[2]\n",
    "\n",
    "            number_of_absent_terms_added[model] += num_absent_terms_added\n",
    "            total[model] += num_terms\n",
    "\n",
    "            record[dataset][model].update(Counter(absent_keyphrase_type))\n",
    "\n",
    "\n",
    "# with open(\"absent_keyphrase_distribution_result.json\", \"w\") as f:\n",
    "#     json.dump(record, f, indent = 4)"
   ]
  },
  {
   "cell_type": "code",
   "execution_count": 9,
   "metadata": {},
   "outputs": [
    {
     "data": {
      "text/plain": [
       "({'autokeygen-1': 13924,\n",
       "  'copyrnn-1': 56285,\n",
       "  'uokg-1': 10101,\n",
       "  'retrieval_based_ukg_custom_trained_combined_references_nounphrase_v8-1_position_penalty+length_penalty': 26524,\n",
       "  'tpg-1': 25180},\n",
       " {'autokeygen-1': 41135,\n",
       "  'copyrnn-1': 81679,\n",
       "  'uokg-1': 35950,\n",
       "  'retrieval_based_ukg_custom_trained_combined_references_nounphrase_v8-1_position_penalty+length_penalty': 55874,\n",
       "  'tpg-1': 47133},\n",
       " {'autokeygen-1': 2.3,\n",
       "  'copyrnn-1': 9.3,\n",
       "  'uokg-1': 1.7,\n",
       "  'retrieval_based_ukg_custom_trained_combined_references_nounphrase_v8-1_position_penalty+length_penalty': 4.4,\n",
       "  'tpg-1': 4.2},\n",
       " 6048)"
      ]
     },
     "execution_count": 9,
     "metadata": {},
     "output_type": "execute_result"
    }
   ],
   "source": [
    "number_of_absent_terms_added, total, {k:round(v / number_of_inputs,1) for k,v in number_of_absent_terms_added.items()}, number_of_inputs"
   ]
  },
  {
   "cell_type": "code",
   "execution_count": 58,
   "metadata": {},
   "outputs": [
    {
     "data": {
      "text/plain": [
       "{'autokeygen-1': 33.5,\n",
       " 'copyrnn-1': 60.9,\n",
       " 'uokg-1': 12.6,\n",
       " 'retrieval_based_ukg_custom_trained_combined_references_nounphrase_v6-1_position_penalty+length_penalty': 51.1,\n",
       " 'tpg-1': 50.9}"
      ]
     },
     "execution_count": 58,
     "metadata": {},
     "output_type": "execute_result"
    }
   ],
   "source": [
    "{k:100 * round(number_of_absent_terms_added[k]/total[k], 3) for k in number_of_absent_terms_added}"
   ]
  },
  {
   "cell_type": "code",
   "execution_count": 10,
   "metadata": {},
   "outputs": [
    {
     "data": {
      "text/plain": [
       "{'semeval': {'autokeygen-1': Counter({0: 944, 1: 56}),\n",
       "  'copyrnn-1': Counter({0: 707, 1: 270, 2: 23}),\n",
       "  'uokg-1': Counter({0: 628, 1: 361, 2: 11}),\n",
       "  'retrieval_based_ukg_custom_trained_combined_references_nounphrase_v6-1_position_penalty+length_penalty': Counter({1: 650,\n",
       "           0: 229,\n",
       "           2: 121}),\n",
       "  'tpg-2': Counter({1: 464, 2: 377, 0: 159})},\n",
       " 'inspec': {'autokeygen-1': Counter({0: 4605, 1: 394, 2: 1}),\n",
       "  'copyrnn-1': Counter({0: 3521, 1: 1291, 2: 188}),\n",
       "  'uokg-1': Counter({0: 3208, 1: 1746, 2: 46}),\n",
       "  'retrieval_based_ukg_custom_trained_combined_references_nounphrase_v6-1_position_penalty+length_penalty': Counter({1: 3024,\n",
       "           0: 996,\n",
       "           2: 980}),\n",
       "  'tpg-2': Counter({2: 2271, 1: 2023, 0: 673})},\n",
       " 'krapivin': {'autokeygen-1': Counter({0: 4251, 1: 348, 2: 1}),\n",
       "  'copyrnn-1': Counter({0: 3388, 1: 1137, 2: 75}),\n",
       "  'uokg-1': Counter({0: 2818, 1: 1726, 2: 56}),\n",
       "  'retrieval_based_ukg_custom_trained_combined_references_nounphrase_v6-1_position_penalty+length_penalty': Counter({1: 2658,\n",
       "           2: 1019,\n",
       "           0: 923}),\n",
       "  'tpg-2': Counter({1: 2051, 2: 1825, 0: 723})},\n",
       " 'nus': {'autokeygen-1': Counter({0: 1967, 1: 143}),\n",
       "  'copyrnn-1': Counter({0: 1500, 1: 553, 2: 57}),\n",
       "  'uokg-1': Counter({0: 1288, 1: 814, 2: 8}),\n",
       "  'retrieval_based_ukg_custom_trained_combined_references_nounphrase_v6-1_position_penalty+length_penalty': Counter({1: 1356,\n",
       "           0: 479,\n",
       "           2: 275}),\n",
       "  'tpg-2': Counter({1: 928, 2: 736, 0: 446})},\n",
       " 'kp20k': {'autokeygen-1': Counter({0: 185236, 1: 14528, 2: 106}),\n",
       "  'copyrnn-1': Counter({0: 153672, 1: 41820, 2: 4378}),\n",
       "  'uokg-1': Counter({0: 123824, 1: 73360, 2: 2686}),\n",
       "  'retrieval_based_ukg_custom_trained_combined_references_nounphrase_v6-1_position_penalty+length_penalty': Counter({1: 120265,\n",
       "           0: 45105,\n",
       "           2: 34500}),\n",
       "  'tpg-2': Counter({1: 89258, 2: 79901, 0: 30237})}}"
      ]
     },
     "execution_count": 10,
     "metadata": {},
     "output_type": "execute_result"
    }
   ],
   "source": [
    "record"
   ]
  },
  {
   "cell_type": "markdown",
   "metadata": {},
   "source": [
    "# Draw histogram for presentation"
   ]
  },
  {
   "cell_type": "code",
   "execution_count": 16,
   "metadata": {},
   "outputs": [],
   "source": [
    "with open(\"absent_keyphrase_distribution_result.json\", \"r\") as f:\n",
    "    record = json.load(f)"
   ]
  },
  {
   "cell_type": "code",
   "execution_count": 17,
   "metadata": {},
   "outputs": [],
   "source": [
    "def draw_histogram(data):\n",
    "    import matplotlib.pyplot as plt\n",
    "    import numpy as np\n",
    "\n",
    "    model_name_mapper = {\n",
    "        \"autokeygen-1\": \"AutoKeyGen\",\n",
    "        \"copyrnn-1\": \"CopyRNN\",\n",
    "        \"uokg-1\": \"UOKG\",\n",
    "        \"retrieval_based_ukg_custom_trained_combined_references_nounphrase_v6-1_position_penalty+length_penalty\": \"ERU-KG\",\n",
    "        \"tpg-2\": \"TPG\"\n",
    "    }\n",
    "\n",
    "    # Prepare data for the histogram\n",
    "    x_labels = [\"reordered\", \"mixed\", \"unseen\"]\n",
    "    values = {key: [data[key].get(str(x), 0) for x in range(3)] for key in data}\n",
    "\n",
    "    # Draw the histogram\n",
    "    x = np.arange(len(x_labels))  # the label locations\n",
    "    width = 0.2  # the width of the bars\n",
    "\n",
    "    fig, ax = plt.subplots(figsize=(10, 6))\n",
    "\n",
    "    # Plot each dataset\n",
    "    for i, (key, value) in enumerate(values.items()):\n",
    "        ax.bar(x + i * width, value, width, label=model_name_mapper[key])\n",
    "\n",
    "    # Add labels, title, and legend\n",
    "    ax.set_xlabel('X-axis')\n",
    "    ax.set_ylabel('Proportions')\n",
    "    ax.set_title('Distribution of absent keyphrases')\n",
    "    ax.set_xticks(x + width * (len(values) - 1) / 2)\n",
    "    ax.set_xticklabels(x_labels)\n",
    "    ax.legend()\n",
    "\n",
    "    # plt.show()\n",
    "    plt.savefig('absent_keyphrase_distribution.pdf')"
   ]
  },
  {
   "cell_type": "code",
   "execution_count": 18,
   "metadata": {},
   "outputs": [],
   "source": [
    "# normalize data\n",
    "\n",
    "normalized_record = {}\n",
    "for dataset in record:\n",
    "    normalized_record[dataset] = {}\n",
    "\n",
    "    for model in record[dataset]:\n",
    "        normalized_record[dataset][model] = {}\n",
    "\n",
    "        total = sum(record[dataset][model].values())\n",
    "        for key in record[dataset][model]:\n",
    "            normalized_record[dataset][model][key] = record[dataset][model][key] / total\n",
    "\n",
    "\n",
    "aggregated_normalized_record = {}\n",
    "\n",
    "for dataset in normalized_record:\n",
    "\n",
    "    for model in normalized_record[dataset]:\n",
    "        if model not in aggregated_normalized_record:\n",
    "            aggregated_normalized_record[model] = {}\n",
    "\n",
    "        for key in normalized_record[dataset][model]:\n",
    "            if key not in aggregated_normalized_record[model]:\n",
    "                aggregated_normalized_record[model][key] = normalized_record[dataset][model][key] / len(normalized_record)\n",
    "            else:\n",
    "                aggregated_normalized_record[model][key] += normalized_record[dataset][model][key]/ len(normalized_record)"
   ]
  },
  {
   "cell_type": "code",
   "execution_count": 19,
   "metadata": {},
   "outputs": [
    {
     "data": {
      "text/plain": [
       "{'semeval': {'autokeygen-1': {'0': 0.944, '1': 0.056},\n",
       "  'copyrnn-1': {'0': 0.707, '1': 0.27, '2': 0.023},\n",
       "  'uokg-1': {'1': 0.361, '0': 0.628, '2': 0.011},\n",
       "  'retrieval_based_ukg_custom_trained_combined_references_nounphrase_v6-1_position_penalty+length_penalty': {'0': 0.229,\n",
       "   '1': 0.65,\n",
       "   '2': 0.121},\n",
       "  'tpg-2': {'0': 0.159, '2': 0.377, '1': 0.464}},\n",
       " 'inspec': {'autokeygen-1': {'0': 0.921, '1': 0.0788, '2': 0.0002},\n",
       "  'copyrnn-1': {'0': 0.7042, '2': 0.0376, '1': 0.2582},\n",
       "  'uokg-1': {'0': 0.6416, '1': 0.3492, '2': 0.0092},\n",
       "  'retrieval_based_ukg_custom_trained_combined_references_nounphrase_v6-1_position_penalty+length_penalty': {'0': 0.1992,\n",
       "   '2': 0.196,\n",
       "   '1': 0.6048},\n",
       "  'tpg-2': {'1': 0.4072881014697,\n",
       "   '2': 0.4572176364002416,\n",
       "   '0': 0.13549426213005838}},\n",
       " 'krapivin': {'autokeygen-1': {'0': 0.9241304347826087,\n",
       "   '1': 0.07565217391304348,\n",
       "   '2': 0.0002173913043478261},\n",
       "  'copyrnn-1': {'1': 0.24717391304347827,\n",
       "   '0': 0.7365217391304347,\n",
       "   '2': 0.016304347826086956},\n",
       "  'uokg-1': {'1': 0.37521739130434784,\n",
       "   '0': 0.6126086956521739,\n",
       "   '2': 0.01217391304347826},\n",
       "  'retrieval_based_ukg_custom_trained_combined_references_nounphrase_v6-1_position_penalty+length_penalty': {'0': 0.2006521739130435,\n",
       "   '1': 0.5778260869565217,\n",
       "   '2': 0.22152173913043477},\n",
       "  'tpg-2': {'1': 0.4459665144596651,\n",
       "   '0': 0.15720808871493802,\n",
       "   '2': 0.3968253968253968}},\n",
       " 'nus': {'autokeygen-1': {'0': 0.9322274881516588, '1': 0.06777251184834124},\n",
       "  'copyrnn-1': {'0': 0.7109004739336493,\n",
       "   '1': 0.262085308056872,\n",
       "   '2': 0.027014218009478674},\n",
       "  'uokg-1': {'1': 0.385781990521327,\n",
       "   '0': 0.6104265402843602,\n",
       "   '2': 0.0037914691943127963},\n",
       "  'retrieval_based_ukg_custom_trained_combined_references_nounphrase_v6-1_position_penalty+length_penalty': {'1': 0.6426540284360189,\n",
       "   '0': 0.22701421800947869,\n",
       "   '2': 0.13033175355450238},\n",
       "  'tpg-2': {'0': 0.21137440758293838,\n",
       "   '1': 0.43981042654028435,\n",
       "   '2': 0.34881516587677724}},\n",
       " 'kp20k': {'autokeygen-1': {'0': 0.9267824085655676,\n",
       "   '1': 0.07268724671036174,\n",
       "   '2': 0.000530344724070646},\n",
       "  'copyrnn-1': {'0': 0.7688597588432481,\n",
       "   '1': 0.20923600340221143,\n",
       "   '2': 0.02190423775454045},\n",
       "  'uokg-1': {'0': 0.6195226897483365,\n",
       "   '1': 0.36703857507379795,\n",
       "   '2': 0.013438735177865613},\n",
       "  'retrieval_based_ukg_custom_trained_combined_references_nounphrase_v6-1_position_penalty+length_penalty': {'1': 0.6017161154750588,\n",
       "   '0': 0.22567168659628759,\n",
       "   '2': 0.17261219792865362},\n",
       "  'tpg-2': {'1': 0.4476418784729884,\n",
       "   '0': 0.15164296174446829,\n",
       "   '2': 0.4007151597825433}}}"
      ]
     },
     "execution_count": 19,
     "metadata": {},
     "output_type": "execute_result"
    }
   ],
   "source": [
    "normalized_record"
   ]
  },
  {
   "cell_type": "code",
   "execution_count": 20,
   "metadata": {},
   "outputs": [
    {
     "data": {
      "text/plain": [
       "{'autokeygen-1': {'0': 0.929628066299967,\n",
       "  '1': 0.0701823864943493,\n",
       "  '2': 0.00018954720568369442},\n",
       " 'copyrnn-1': {'0': 0.7254963943814665,\n",
       "  '1': 0.24933904490051237,\n",
       "  '2': 0.025164560718021218},\n",
       " 'uokg-1': {'1': 0.36764759137989456,\n",
       "  '0': 0.622431585136974,\n",
       "  '2': 0.009920823483131334},\n",
       " 'retrieval_based_ukg_custom_trained_combined_references_nounphrase_v6-1_position_penalty+length_penalty': {'0': 0.21630761570376195,\n",
       "  '1': 0.6153992461735199,\n",
       "  '2': 0.16829313812271815},\n",
       " 'tpg-2': {'0': 0.16294394403448062,\n",
       "  '2': 0.3961146717769918,\n",
       "  '1': 0.4409413841885276}}"
      ]
     },
     "execution_count": 20,
     "metadata": {},
     "output_type": "execute_result"
    }
   ],
   "source": [
    "aggregated_normalized_record"
   ]
  },
  {
   "cell_type": "code",
   "execution_count": 21,
   "metadata": {},
   "outputs": [
    {
     "data": {
      "image/png": "[encoded data removed]",
      "text/plain": [
       "<Figure size 1000x600 with 1 Axes>"
      ]
     },
     "metadata": {},
     "output_type": "display_data"
    }
   ],
   "source": [
    "draw_histogram(aggregated_normalized_record)"
   ]
  },
  {
   "cell_type": "code",
   "execution_count": null,
   "metadata": {},
   "outputs": [],
   "source": []
  }
 ],
 "metadata": {
  "kernelspec": {
   "display_name": "venv310",
   "language": "python",
   "name": "python3"
  },
  "language_info": {
   "codemirror_mode": {
    "name": "ipython",
    "version": 3
   },
   "file_extension": ".py",
   "mimetype": "text/x-python",
   "name": "python",
   "nbconvert_exporter": "python",
   "pygments_lexer": "ipython3",
   "version": "3.10.14"
  }
 },
 "nbformat": 4,
 "nbformat_minor": 2
}
