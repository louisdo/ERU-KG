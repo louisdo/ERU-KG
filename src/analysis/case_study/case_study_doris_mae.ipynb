{
 "cells": [
  {
   "cell_type": "code",
   "execution_count": 1,
   "metadata": {},
   "outputs": [],
   "source": [
    "import json"
   ]
  },
  {
   "cell_type": "code",
   "execution_count": 2,
   "metadata": {},
   "outputs": [],
   "source": [
    "with open(\"/scratch/lamdo/precompute_keyphrase_extraction/doris_mae_queries--retrieval_based_ukg_custom_trained_combined_references_nounphrase_v6-1_position_penalty+length_penalty.json\") as f:\n",
    "    eru_kg_generations = json.load(f)\n",
    "\n",
    "with open(\"/scratch/lamdo/precompute_keyphrase_extraction/doris_mae_queries--uokg-1.json\") as f:\n",
    "    uokg_generations = json.load(f)\n",
    "\n",
    "with open(\"/scratch/lamdo/precompute_keyphrase_extraction/doris_mae_queries--autokeygen-1.json\") as f:\n",
    "    autokeygen_generations = json.load(f)\n",
    "\n",
    "with open(\"/scratch/lamdo/precompute_keyphrase_extraction/doris_mae_queries--copyrnn-1.json\") as f:\n",
    "    copyrnn_generations = json.load(f)"
   ]
  },
  {
   "cell_type": "code",
   "execution_count": 3,
   "metadata": {},
   "outputs": [],
   "source": [
    "with open(\"/scratch/lamdo/doris-mae/DORIS-MAE_dataset_v1.json\") as f:\n",
    "    data = json.load(f)\n",
    "    queries = data[\"Query\"]"
   ]
  },
  {
   "cell_type": "code",
   "execution_count": 6,
   "metadata": {},
   "outputs": [
    {
     "data": {
      "text/plain": [
       "{'query_text': 'I am seeking alternatives to Generative Adversarial Networks (GANs) that can be applied to image datasets, such as CIFAR-10. The alternative should be capable of generating new data points based on the original data distribution and should perform comparably to GANs across various metrics. Could you provide information on the standard metrics typically used to evaluate the performance of GANs? I anticipate that this alternative method would initially estimate and model the original data distribution, possibly using a neural network, and then generate diverse data points that adhere to the same distribution through an intelligent sampling technique. However, I am open to learning about other promising approaches as well.',\n",
       " 'candidate_pool': [89089,\n",
       "  219138,\n",
       "  252935,\n",
       "  7178,\n",
       "  278541,\n",
       "  36366,\n",
       "  150546,\n",
       "  303136,\n",
       "  146468,\n",
       "  226369,\n",
       "  245825,\n",
       "  222789,\n",
       "  74826,\n",
       "  157259,\n",
       "  184923,\n",
       "  195165,\n",
       "  225885,\n",
       "  181346,\n",
       "  210531,\n",
       "  265829,\n",
       "  223845,\n",
       "  184430,\n",
       "  46708,\n",
       "  53879,\n",
       "  9855,\n",
       "  33920,\n",
       "  94335,\n",
       "  252036,\n",
       "  240260,\n",
       "  239750,\n",
       "  89742,\n",
       "  171682,\n",
       "  167589,\n",
       "  222890,\n",
       "  181931,\n",
       "  68784,\n",
       "  201910,\n",
       "  36534,\n",
       "  237755,\n",
       "  79549,\n",
       "  240321,\n",
       "  15045,\n",
       "  153286,\n",
       "  209608,\n",
       "  226506,\n",
       "  88268,\n",
       "  112333,\n",
       "  228049,\n",
       "  249555,\n",
       "  251097,\n",
       "  179461,\n",
       "  143114,\n",
       "  229650,\n",
       "  343830,\n",
       "  94487,\n",
       "  41754,\n",
       "  160542,\n",
       "  112420,\n",
       "  183079,\n",
       "  303913,\n",
       "  225082,\n",
       "  127805,\n",
       "  50496,\n",
       "  261954,\n",
       "  216387,\n",
       "  317771,\n",
       "  169813,\n",
       "  131929,\n",
       "  200035,\n",
       "  229734,\n",
       "  122731,\n",
       "  139629,\n",
       "  135023,\n",
       "  228220,\n",
       "  140669,\n",
       "  128900,\n",
       "  167831,\n",
       "  68504,\n",
       "  11690,\n",
       "  288171,\n",
       "  163763,\n",
       "  110009,\n",
       "  143817,\n",
       "  165335,\n",
       "  291301,\n",
       "  255467,\n",
       "  209900,\n",
       "  263662,\n",
       "  241651,\n",
       "  68086,\n",
       "  200696,\n",
       "  251202,\n",
       "  738,\n",
       "  176382,\n",
       "  87239,\n",
       "  281002,\n",
       "  192786,\n",
       "  41821,\n",
       "  84446,\n",
       "  41764,\n",
       "  95919,\n",
       "  210224,\n",
       "  1129,\n",
       "  78355,\n",
       "  157459,\n",
       "  242751,\n",
       "  138333,\n",
       "  164287,\n",
       "  186901,\n",
       "  175835,\n",
       "  149821,\n",
       "  227505,\n",
       "  192875,\n",
       "  107215,\n",
       "  250302,\n",
       "  113878,\n",
       "  84194,\n",
       "  290675,\n",
       "  251563],\n",
       " 'aspects': {'1210': ['1211', '718'],\n",
       "  '735': [],\n",
       "  '1089': ['526'],\n",
       "  '513': ['720', '714'],\n",
       "  '1071': ['1047', '31', '1072']},\n",
       " 'query_type': 'ML',\n",
       " 'sent2aspect_id': {'I am seeking alternatives to Generative Adversarial Networks (GANs) that can be applied to image datasets, such as CIFAR-10.': ['1210'],\n",
       "  'The alternative should be capable of generating new data points based on the original data distribution and should perform comparably to GANs across various metrics.': ['735'],\n",
       "  'Could you provide information on the standard metrics typically used to evaluate the performance of GANs?': ['735'],\n",
       "  'I anticipate that this alternative method would initially estimate and model the original data distribution, possibly using a neural network, and then generate diverse data points that adhere to the same distribution through an intelligent sampling technique.': ['513',\n",
       "   '1071'],\n",
       "  'However, I am open to learning about other promising approaches as well.': []},\n",
       " 'aspect_id2sent': {'1210': ['I am seeking alternatives to Generative Adversarial Networks (GANs) that can be applied to image datasets, such as CIFAR-10.'],\n",
       "  '735': ['The alternative should be capable of generating new data points based on the original data distribution and should perform comparably to GANs across various metrics.'],\n",
       "  '1089': ['Could you provide information on the standard metrics typically used to evaluate the performance of GANs?'],\n",
       "  '513': ['I anticipate that this alternative method would initially estimate and model the original data distribution, possibly using a neural network, and then generate diverse data points that adhere to the same distribution through an intelligent sampling technique.'],\n",
       "  '1071': ['I anticipate that this alternative method would initially estimate and model the original data distribution, possibly using a neural network, and then generate diverse data points that adhere to the same distribution through an intelligent sampling technique.']},\n",
       " 'idea_from': [101173]}"
      ]
     },
     "execution_count": 6,
     "metadata": {},
     "output_type": "execute_result"
    }
   ],
   "source": [
    "queries[50]"
   ]
  },
  {
   "cell_type": "code",
   "execution_count": 15,
   "metadata": {},
   "outputs": [
    {
     "name": "stdout",
     "output_type": "stream",
     "text": [
      "The paper should talk about generative models for image generation that are not Generative Adversarial Networks (GAN).\n",
      "The model mentioned in the paper should have comparable performance to Generative Adversarial Networks (GAN).\n",
      "The model mentioned in the paper should have comparable performance to Generative Adversarial Networks (GAN).\n",
      "The generative model mentioned in the paper can estimate and model the training data distribution by using deep learning.\n",
      "The paper should propose a sampling method to generate diverse new data points adhering to the original data distribution.\n"
     ]
    }
   ],
   "source": [
    "all_aspects = []\n",
    "for aspects in {k: [data[\"aspect_id2aspect\"][item] for item in v] for k,v in queries[50][\"sent2aspect_id\"].items()}.values():\n",
    "    all_aspects.extend(aspects)\n",
    "\n",
    "print(\"\\n\".join(all_aspects))"
   ]
  },
  {
   "cell_type": "code",
   "execution_count": 22,
   "metadata": {},
   "outputs": [],
   "source": [
    "def check_truly_absent(phrase, text):\n",
    "    text_tokens = set(text.split())\n",
    "    tokens = phrase.split()\n",
    "    return not all([tok in text for tok in tokens])"
   ]
  },
  {
   "cell_type": "code",
   "execution_count": 23,
   "metadata": {},
   "outputs": [
    {
     "name": "stdout",
     "output_type": "stream",
     "text": [
      "eru_kg\n",
      "present: gans, alternatives, gan, adversarial networks, image datasets, new data points, intelligent sampling technique, cifar-10, diverse data points, various metrics\n",
      "absent: generation, image generation, ac gan, gan framework, generative adversarial nets, image synthesis, gan training, am gan, net gan, gan model\n",
      "0.6\n",
      "\n",
      "\n",
      "autokeygen\n",
      "present: data distribution, original data distribution, original data, data points, data, image data, gans, new data, neural network, standard metrics\n",
      "absent: alternative metrics, original data points, standard data, distribution data, data distribution networks, other data points, data networks, various data, neural data, network data\n",
      "0.0\n",
      "\n",
      "\n",
      "uokg\n",
      "present: data points, data distribution, image datasets, diverse data points, original data, new data, alternatives, neural network, standard metrics, data\n",
      "absent: diverse data sources, multiple data sources, original data set, different data sources, data sampling, various data sources, other data sources, time-series data, open datasets, neural networks\n",
      "0.6\n",
      "\n",
      "\n",
      "copyrnn\n",
      "present: neural network, image data, gans, data distribution, sampling, data, image, cifar-10, sampling technique, metrics\n",
      "absent: neural networks, data mining, image data mining, generative model, generative neural networks, intelligent image data, artificial neural networks, adversarial neural networks, open neural networks, open data\n",
      "0.3\n",
      "\n",
      "\n"
     ]
    }
   ],
   "source": [
    "model_names = [\"eru_kg\", \"autokeygen\", \"uokg\", \"copyrnn\"]\n",
    "\n",
    "for i, generations in enumerate([eru_kg_generations, autokeygen_generations, uokg_generations, copyrnn_generations]):\n",
    "    keyphrases = generations[50].get(\"automatically_extracted_keyphrases\")\n",
    "    present_keyphrases = keyphrases.get(\"present_keyphrases\")[:10]\n",
    "    absent_keyphrases = keyphrases.get(\"absent_keyphrases\")[:10]\n",
    "\n",
    "    truly_absent_keyphrases = [item for item in absent_keyphrases if check_truly_absent(item, queries[50][\"query_text\"].lower())]\n",
    "\n",
    "    print(model_names[i])\n",
    "    print(\"present:\", \", \".join(present_keyphrases))\n",
    "    print(\"absent:\",\", \".join(absent_keyphrases))\n",
    "\n",
    "    print(len(truly_absent_keyphrases) / len(absent_keyphrases))\n",
    "    print(\"\\n\")"
   ]
  },
  {
   "cell_type": "code",
   "execution_count": null,
   "metadata": {},
   "outputs": [],
   "source": []
  }
 ],
 "metadata": {
  "kernelspec": {
   "display_name": "venv310",
   "language": "python",
   "name": "python3"
  },
  "language_info": {
   "codemirror_mode": {
    "name": "ipython",
    "version": 3
   },
   "file_extension": ".py",
   "mimetype": "text/x-python",
   "name": "python",
   "nbconvert_exporter": "python",
   "pygments_lexer": "ipython3",
   "version": "3.10.14"
  }
 },
 "nbformat": 4,
 "nbformat_minor": 2
}
