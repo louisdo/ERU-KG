{
 "cells": [
  {
   "cell_type": "code",
   "execution_count": 15,
   "metadata": {},
   "outputs": [],
   "source": [
    "import json\n",
    "import pandas as pd"
   ]
  },
  {
   "cell_type": "code",
   "execution_count": 16,
   "metadata": {},
   "outputs": [],
   "source": [
    "with open(\"/scratch/lamdo/keyphrase_generation_results/results_ongoing/kp20k--retrieval_based_ukg_custom_trained_combined_references_nounphrase_v6-1_position_penalty+length_penalty.json\") as f:\n",
    "    eru_kg_generations = json.load(f)\n",
    "\n",
    "with open(\"/scratch/lamdo/keyphrase_generation_results/results_ongoing/kp20k--uokg-1.json\") as f:\n",
    "    uokg_generations = json.load(f)\n",
    "\n",
    "with open(\"/scratch/lamdo/keyphrase_generation_results/results_ongoing/kp20k--autokeygen-1.json\") as f:\n",
    "    autokeygen_generations = json.load(f)\n",
    "\n",
    "with open(\"/scratch/lamdo/keyphrase_generation_results/results_ongoing/kp20k--copyrnn-1.json\") as f:\n",
    "    copyrnn_generations = json.load(f)"
   ]
  },
  {
   "cell_type": "code",
   "execution_count": 17,
   "metadata": {},
   "outputs": [],
   "source": [
    "df = pd.read_json(\"hf://datasets/memray/kp20k/test.json\", lines=True)"
   ]
  },
  {
   "cell_type": "code",
   "execution_count": 18,
   "metadata": {},
   "outputs": [
    {
     "data": {
      "text/html": [
       "<div>\n",
       "<style scoped>\n",
       "    .dataframe tbody tr th:only-of-type {\n",
       "        vertical-align: middle;\n",
       "    }\n",
       "\n",
       "    .dataframe tbody tr th {\n",
       "        vertical-align: top;\n",
       "    }\n",
       "\n",
       "    .dataframe thead th {\n",
       "        text-align: right;\n",
       "    }\n",
       "</style>\n",
       "<table border=\"1\" class=\"dataframe\">\n",
       "  <thead>\n",
       "    <tr style=\"text-align: right;\">\n",
       "      <th></th>\n",
       "      <th>abstract</th>\n",
       "      <th>keywords</th>\n",
       "      <th>title</th>\n",
       "    </tr>\n",
       "  </thead>\n",
       "  <tbody>\n",
       "    <tr>\n",
       "      <th>0</th>\n",
       "      <td>A feedback vertex set of a graph G is a set S ...</td>\n",
       "      <td>feedback vertex set;decycling set;2-degenerate...</td>\n",
       "      <td>A feedback vertex set of 2-degenerate graphs</td>\n",
       "    </tr>\n",
       "    <tr>\n",
       "      <th>1</th>\n",
       "      <td>This article proposes techniques to predict th...</td>\n",
       "      <td>performance;analytical modeling;pending hit;da...</td>\n",
       "      <td>Hybrid Analytical Modeling of Pending Cache Hi...</td>\n",
       "    </tr>\n",
       "    <tr>\n",
       "      <th>2</th>\n",
       "      <td>Autoimmune polyendocrinopathy candidiasis ecto...</td>\n",
       "      <td>apeced;aire;chronic mucocutaneous candidiasis;...</td>\n",
       "      <td>Autoimmune polyendocrinopathy candidiasis ecto...</td>\n",
       "    </tr>\n",
       "    <tr>\n",
       "      <th>3</th>\n",
       "      <td>In this paper, we consider an enthalpy formula...</td>\n",
       "      <td>casting;thermal;conduction;convection;finite e...</td>\n",
       "      <td>Numerical solution of a three-dimensional soli...</td>\n",
       "    </tr>\n",
       "    <tr>\n",
       "      <th>4</th>\n",
       "      <td>In this research, a new type of manufacturing ...</td>\n",
       "      <td>feature recognition;rib;aircraft structural pa...</td>\n",
       "      <td>Definition and recognition of rib features in ...</td>\n",
       "    </tr>\n",
       "    <tr>\n",
       "      <th>...</th>\n",
       "      <td>...</td>\n",
       "      <td>...</td>\n",
       "      <td>...</td>\n",
       "    </tr>\n",
       "    <tr>\n",
       "      <th>19982</th>\n",
       "      <td>Energy efficiency and transmission delay are v...</td>\n",
       "      <td>energy efficiency;delay;unreliable links;wirel...</td>\n",
       "      <td>Energy-delay tradeoff in wireless multihop net...</td>\n",
       "    </tr>\n",
       "    <tr>\n",
       "      <th>19983</th>\n",
       "      <td>This paper describes the design and implementa...</td>\n",
       "      <td>e-medical records;e-health;e-clinic;web-based;...</td>\n",
       "      <td>A Cyber Medical Center</td>\n",
       "    </tr>\n",
       "    <tr>\n",
       "      <th>19984</th>\n",
       "      <td>This work describes a detailed simulation-base...</td>\n",
       "      <td>wireless lan;quality of service;medium access ...</td>\n",
       "      <td>adapting wlan mac parameters to enhance voip c...</td>\n",
       "    </tr>\n",
       "    <tr>\n",
       "      <th>19985</th>\n",
       "      <td>This paper describes a conceptually simple but...</td>\n",
       "      <td>interior point methods;ellipsoid method;multio...</td>\n",
       "      <td>An interior point multiobjective programming a...</td>\n",
       "    </tr>\n",
       "    <tr>\n",
       "      <th>19986</th>\n",
       "      <td>Most of the reports on the method of fundament...</td>\n",
       "      <td>method of fundamental solutions;method of part...</td>\n",
       "      <td>The method of fundamental solutions and its co...</td>\n",
       "    </tr>\n",
       "  </tbody>\n",
       "</table>\n",
       "<p>19987 rows × 3 columns</p>\n",
       "</div>"
      ],
      "text/plain": [
       "                                                abstract  \\\n",
       "0      A feedback vertex set of a graph G is a set S ...   \n",
       "1      This article proposes techniques to predict th...   \n",
       "2      Autoimmune polyendocrinopathy candidiasis ecto...   \n",
       "3      In this paper, we consider an enthalpy formula...   \n",
       "4      In this research, a new type of manufacturing ...   \n",
       "...                                                  ...   \n",
       "19982  Energy efficiency and transmission delay are v...   \n",
       "19983  This paper describes the design and implementa...   \n",
       "19984  This work describes a detailed simulation-base...   \n",
       "19985  This paper describes a conceptually simple but...   \n",
       "19986  Most of the reports on the method of fundament...   \n",
       "\n",
       "                                                keywords  \\\n",
       "0      feedback vertex set;decycling set;2-degenerate...   \n",
       "1      performance;analytical modeling;pending hit;da...   \n",
       "2      apeced;aire;chronic mucocutaneous candidiasis;...   \n",
       "3      casting;thermal;conduction;convection;finite e...   \n",
       "4      feature recognition;rib;aircraft structural pa...   \n",
       "...                                                  ...   \n",
       "19982  energy efficiency;delay;unreliable links;wirel...   \n",
       "19983  e-medical records;e-health;e-clinic;web-based;...   \n",
       "19984  wireless lan;quality of service;medium access ...   \n",
       "19985  interior point methods;ellipsoid method;multio...   \n",
       "19986  method of fundamental solutions;method of part...   \n",
       "\n",
       "                                                   title  \n",
       "0           A feedback vertex set of 2-degenerate graphs  \n",
       "1      Hybrid Analytical Modeling of Pending Cache Hi...  \n",
       "2      Autoimmune polyendocrinopathy candidiasis ecto...  \n",
       "3      Numerical solution of a three-dimensional soli...  \n",
       "4      Definition and recognition of rib features in ...  \n",
       "...                                                  ...  \n",
       "19982  Energy-delay tradeoff in wireless multihop net...  \n",
       "19983                             A Cyber Medical Center  \n",
       "19984  adapting wlan mac parameters to enhance voip c...  \n",
       "19985  An interior point multiobjective programming a...  \n",
       "19986  The method of fundamental solutions and its co...  \n",
       "\n",
       "[19987 rows x 3 columns]"
      ]
     },
     "execution_count": 18,
     "metadata": {},
     "output_type": "execute_result"
    }
   ],
   "source": [
    "df"
   ]
  },
  {
   "cell_type": "code",
   "execution_count": 25,
   "metadata": {},
   "outputs": [
    {
     "name": "stdout",
     "output_type": "stream",
     "text": [
      "new perspectives and methods in link prediction\n",
      "This paper examines important factors for link prediction in networks and provides a general, high-performance framework for the prediction task. Link prediction in sparse networks presents a significant challenge due to the inherent disproportion of links that can form to links that do form. Previous research has typically approached this as an unsupervised problem. While this is not the first work to explore supervised learning, many factors significant in influencing and guiding classification remain unexplored. In this paper, we consider these factors by first motivating the use of a supervised framework through a careful investigation of issues such as network observational period, generality of existing methods, variance reduction, topological causes and degrees of imbalance, and sampling approaches. We also present an effective flow-based predicting algorithm, offer formal bounds on imbalance in sparse network link prediction, and employ an evaluation method appropriate for the observed imbalance. Our careful consideration of the above issues ultimately leads to a completely general framework that outperforms unsupervised link prediction methods by more than 30% AUC.\n"
     ]
    }
   ],
   "source": [
    "print(df.loc[2000][\"title\"] + \"\\n\" + df.loc[2000][\"abstract\"])"
   ]
  },
  {
   "cell_type": "code",
   "execution_count": 24,
   "metadata": {},
   "outputs": [
    {
     "name": "stdout",
     "output_type": "stream",
     "text": [
      "eru_kg\n",
      "structured reporting, structured report, usability, structured report interfaces, telecardiology\n",
      "large-scale telecardiology context poor usability, usability evaluation, system usability scale, usability test, usability testing\n",
      "\n",
      "\n",
      "autokeygen\n",
      "usability, telemedicine systems, user satisfaction, reporting, telemedicine\n",
      "usability evaluation, usability methods, user input, interactive user interfaces, user interfaces\n",
      "\n",
      "\n",
      "uokg\n",
      "structured reporting, usability, poor usability, structured report, telemedicine systems\n",
      "usability evaluation methods, usability testing, usability aspects, usability guidelines, usability assessment\n",
      "\n",
      "\n",
      "copyrnn\n",
      "usability, telemedicine, structured reporting, user satisfaction, reporting\n",
      "usability evaluation, structured usability evaluation, structured user interfaces, user interfaces, user interface design\n",
      "\n",
      "\n"
     ]
    }
   ],
   "source": [
    "model_names = [\"eru_kg\", \"autokeygen\", \"uokg\", \"copyrnn\"]\n",
    "\n",
    "for i, generations in enumerate([eru_kg_generations, autokeygen_generations, uokg_generations, copyrnn_generations]):\n",
    "    keyphrases = generations[200].get(\"automatically_extracted_keyphrases\")\n",
    "    present_keyphrases = keyphrases.get(\"present_keyphrases\")[:5]\n",
    "    absent_keyphrases = keyphrases.get(\"absent_keyphrases\")[:5]\n",
    "    print(model_names[i])\n",
    "    print(\", \".join(present_keyphrases))\n",
    "    print(\", \".join(absent_keyphrases))\n",
    "    print(\"\\n\")"
   ]
  },
  {
   "cell_type": "code",
   "execution_count": null,
   "metadata": {},
   "outputs": [],
   "source": []
  }
 ],
 "metadata": {
  "kernelspec": {
   "display_name": "venv310",
   "language": "python",
   "name": "python3"
  },
  "language_info": {
   "codemirror_mode": {
    "name": "ipython",
    "version": 3
   },
   "file_extension": ".py",
   "mimetype": "text/x-python",
   "name": "python",
   "nbconvert_exporter": "python",
   "pygments_lexer": "ipython3",
   "version": "3.10.14"
  }
 },
 "nbformat": 4,
 "nbformat_minor": 2
}
