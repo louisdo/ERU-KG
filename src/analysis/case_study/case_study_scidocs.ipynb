{
 "cells": [
  {
   "cell_type": "code",
   "execution_count": 1,
   "metadata": {},
   "outputs": [
    {
     "name": "stderr",
     "output_type": "stream",
     "text": [
      "/home/lamdo/miniconda3/envs/venv310/lib/python3.10/site-packages/tqdm/auto.py:21: TqdmWarning: IProgress not found. Please update jupyter and ipywidgets. See https://ipywidgets.readthedocs.io/en/stable/user_install.html\n",
      "  from .autonotebook import tqdm as notebook_tqdm\n"
     ]
    }
   ],
   "source": [
    "import json\n",
    "from datasets import load_dataset"
   ]
  },
  {
   "cell_type": "code",
   "execution_count": 2,
   "metadata": {},
   "outputs": [],
   "source": [
    "with open(\"/scratch/lamdo/precompute_keyphrase_extraction/scidocs_queries--retrieval_based_ukg_custom_trained_combined_references_nounphrase_v6-1_position_penalty+length_penalty.json\") as f:\n",
    "    eru_kg_generations = json.load(f)\n",
    "\n",
    "with open(\"/scratch/lamdo/precompute_keyphrase_extraction/scidocs_queries--uokg-1.json\") as f:\n",
    "    uokg_generations = json.load(f)\n",
    "\n",
    "with open(\"/scratch/lamdo/precompute_keyphrase_extraction/scidocs_queries--autokeygen-1.json\") as f:\n",
    "    autokeygen_generations = json.load(f)\n",
    "\n",
    "with open(\"/scratch/lamdo/precompute_keyphrase_extraction/scidocs_queries--copyrnn-1.json\") as f:\n",
    "    copyrnn_generations = json.load(f)"
   ]
  },
  {
   "cell_type": "code",
   "execution_count": 3,
   "metadata": {},
   "outputs": [],
   "source": [
    "ds = load_dataset(\"BeIR/scidocs\", \"queries\")"
   ]
  },
  {
   "cell_type": "code",
   "execution_count": 4,
   "metadata": {},
   "outputs": [
    {
     "data": {
      "text/plain": [
       "{'_id': 'df0ef17f63582603dafb1ac5c489dec1416ecbf4',\n",
       " 'title': '',\n",
       " 'text': 'Real World BCI: Cross-Domain Learning and Practical Applications'}"
      ]
     },
     "execution_count": 4,
     "metadata": {},
     "output_type": "execute_result"
    }
   ],
   "source": [
    "INDEX = 40\n",
    "ds[\"queries\"][INDEX]"
   ]
  },
  {
   "cell_type": "code",
   "execution_count": 5,
   "metadata": {},
   "outputs": [],
   "source": [
    "def check_truly_absent(phrase, text):\n",
    "    text_tokens = set(text.split())\n",
    "    tokens = phrase.split()\n",
    "    return not all([tok in text for tok in tokens])"
   ]
  },
  {
   "cell_type": "code",
   "execution_count": 7,
   "metadata": {},
   "outputs": [
    {
     "name": "stdout",
     "output_type": "stream",
     "text": [
      "eru_kg\n",
      "present: real world bci, cross-domain learning, practical applications, domain, applications\n",
      "absent: target domain, source domain, domain adaptation, cross domain, deep learning, domain shift, transfer learning, cross domain recommendation, brain computer interface, meta learning\n",
      "0.9\n",
      "\n",
      "\n",
      "autokeygen\n",
      "present: practical applications, cross-domain learning, real world, real world bci, bci, practical application, learning, world bci, applications, practical\n",
      "absent: practical learning, real world applications, learning applications, bci applications, learning models, learning system, learning method, learning model, learning methods, practical systems\n",
      "0.6\n",
      "\n",
      "\n",
      "uokg\n",
      "present: real world bci, real world, world bci, practical applications, cross-domain learning, world, real, bci, applications, learning\n",
      "absent: real world applications, bci applications, practical learning, learning applications, real applications, real world practical applications, practical real world applications, practical learning applications, real world learning applications, practical world bci applications\n",
      "0.0\n",
      "\n",
      "\n",
      "copyrnn\n",
      "present: cross-domain learning, bci, learning, applications, practical, cross-domain, real world, real\n",
      "absent: world wide web, cross-domain world wide web, real world wide web, learning world wide web, <tgt_unk>, learning applications, cross-domain applications, support vector machines, real time, finite element method\n",
      "0.8\n",
      "\n",
      "\n"
     ]
    }
   ],
   "source": [
    "model_names = [\"eru_kg\", \"autokeygen\", \"uokg\", \"copyrnn\"]\n",
    "\n",
    "for i, generations in enumerate([eru_kg_generations, autokeygen_generations, uokg_generations, copyrnn_generations]):\n",
    "    keyphrases = generations[INDEX].get(\"automatically_extracted_keyphrases\")\n",
    "    present_keyphrases = keyphrases.get(\"present_keyphrases\")[:10]\n",
    "    absent_keyphrases = keyphrases.get(\"absent_keyphrases\")[:10]\n",
    "\n",
    "    truly_absent_keyphrases = [item for item in absent_keyphrases if check_truly_absent(item, ds[\"queries\"][INDEX][\"text\"].lower())]\n",
    "\n",
    "    print(model_names[i])\n",
    "    print(\"present:\", \", \".join(present_keyphrases))\n",
    "    print(\"absent:\",\", \".join(absent_keyphrases))\n",
    "\n",
    "    print(len(truly_absent_keyphrases) / len(absent_keyphrases))\n",
    "    print(\"\\n\")"
   ]
  },
  {
   "cell_type": "code",
   "execution_count": null,
   "metadata": {},
   "outputs": [],
   "source": []
  },
  {
   "cell_type": "code",
   "execution_count": null,
   "metadata": {},
   "outputs": [],
   "source": []
  }
 ],
 "metadata": {
  "kernelspec": {
   "display_name": "venv310",
   "language": "python",
   "name": "python3"
  },
  "language_info": {
   "codemirror_mode": {
    "name": "ipython",
    "version": 3
   },
   "file_extension": ".py",
   "mimetype": "text/x-python",
   "name": "python",
   "nbconvert_exporter": "python",
   "pygments_lexer": "ipython3",
   "version": "3.10.14"
  }
 },
 "nbformat": 4,
 "nbformat_minor": 2
}
