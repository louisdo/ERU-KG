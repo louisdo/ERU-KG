{
 "cells": [
  {
   "cell_type": "code",
   "execution_count": 4,
   "metadata": {},
   "outputs": [],
   "source": [
    "import pandas as pd\n",
    "import numpy as np"
   ]
  },
  {
   "cell_type": "code",
   "execution_count": 13,
   "metadata": {},
   "outputs": [
    {
     "name": "stdout",
     "output_type": "stream",
     "text": [
      "semeval 15.2 59.699999999999996\n",
      "inspec 9.8 22.0\n",
      "nus 11.6 49.3\n",
      "krapivin 5.7 51.2\n",
      "kp20k 5.3 44.7\n"
     ]
    }
   ],
   "source": [
    "dataset_names = [\"semeval\", \"inspec\", \"nus\", \"krapivin\", \"kp20k\"]\n",
    "\n",
    "for dataset_name in dataset_names:\n",
    "    df = pd.read_json(f\"hf://datasets/memray/{dataset_name}/test.json\", lines=True)\n",
    "\n",
    "    keyphrases_count = []\n",
    "    absent_keyphrases_percentages = []\n",
    "    for line in df.to_dict(\"records\"):\n",
    "        title = line.get(\"title\")\n",
    "        abstract = line.get(\"abstract\")\n",
    "\n",
    "        text = f\"{title.lower()}\\n{abstract.lower()}\"\n",
    "        keyphrases = line.get(\"keywords\").split(\";\")\n",
    "        keyphrases = [kw.strip().lower() for kw in keyphrases if kw]\n",
    "\n",
    "        if not keyphrases: continue\n",
    "\n",
    "        present_keyphrases = [kw for kw in keyphrases if kw in text]\n",
    "        absent_keyphrases = [kw for kw in keyphrases if kw not in text]\n",
    "\n",
    "        keyphrases_count.append(len(keyphrases))\n",
    "        absent_keyphrases_percentages.append(len(absent_keyphrases) / len(keyphrases))\n",
    "\n",
    "    print(dataset_name, round(np.mean(keyphrases_count), 1), round(np.mean(absent_keyphrases_percentages), 3) * 100, )"
   ]
  },
  {
   "cell_type": "code",
   "execution_count": null,
   "metadata": {},
   "outputs": [],
   "source": []
  },
  {
   "cell_type": "code",
   "execution_count": null,
   "metadata": {},
   "outputs": [],
   "source": []
  }
 ],
 "metadata": {
  "kernelspec": {
   "display_name": "venv310",
   "language": "python",
   "name": "python3"
  },
  "language_info": {
   "codemirror_mode": {
    "name": "ipython",
    "version": 3
   },
   "file_extension": ".py",
   "mimetype": "text/x-python",
   "name": "python",
   "nbconvert_exporter": "python",
   "pygments_lexer": "ipython3",
   "version": "3.10.14"
  }
 },
 "nbformat": 4,
 "nbformat_minor": 2
}
